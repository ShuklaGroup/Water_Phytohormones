{
 "cells": [
  {
   "cell_type": "code",
   "execution_count": 1,
   "metadata": {},
   "outputs": [],
   "source": [
    "import numpy as np\n",
    "import matplotlib.pyplot as plt\n",
    "import math\n",
    "from matplotlib import rc\n",
    "rc('font',**{'family':'sans-serif', 'sans-serif':['Helvetica'], 'size': '12', 'weight':'bold'})\n",
    "params = {'mathtext.default': 'regular' }\n",
    "plt.rcParams.update(params)\n",
    "plt.rcParams['text.usetex'] = False\n",
    "\n",
    "from matplotlib.font_manager import FontProperties\n",
    "fontP = FontProperties()\n",
    "fontP.set_size('6')\n",
    "%matplotlib inline"
   ]
  },
  {
   "cell_type": "markdown",
   "metadata": {},
   "source": [
    "# Hydration site analysis - without restraints"
   ]
  },
  {
   "cell_type": "code",
   "execution_count": 2,
   "metadata": {},
   "outputs": [],
   "source": [
    "apo_b1_hsa = np.loadtxt(\"/Users/chuankai/0-Research/4-Plant-Hormones/11-Strigolactone/water/analysis/D14-apo/\\\n",
    "1-block1/run_hsa/SSTMap_HSA/D14-apo_hsa_summary.txt\",   skiprows=1, usecols=list(range(0,27)))\n",
    "\n",
    "apo_b2_hsa = np.loadtxt(\"/Users/chuankai/0-Research/4-Plant-Hormones/11-Strigolactone/water/analysis/D14-apo/\\\n",
    "2-block2/run_hsa/SSTMap_HSA/D14-apo_hsa_summary.txt\",   skiprows=1, usecols=list(range(0,27)))\n",
    "\n",
    "apo_b3_hsa = np.loadtxt(\"/Users/chuankai/0-Research/4-Plant-Hormones/11-Strigolactone/water/analysis/D14-apo/\\\n",
    "3-whole/run_hsa/SSTMap_HSA/D14-apo_hsa_summary.txt\",   skiprows=1, usecols=list(range(0,27)))\n",
    "\n",
    "holo_b1_hsa = np.loadtxt(\"/Users/chuankai/0-Research/4-Plant-Hormones/11-Strigolactone/water/analysis/D14-holo/\\\n",
    "1-block1/run_hsa/SSTMap_HSA/D14-holo_hsa_summary.txt\",   skiprows=1, usecols=list(range(0,27)))\n",
    "\n",
    "holo_b2_hsa = np.loadtxt(\"/Users/chuankai/0-Research/4-Plant-Hormones/11-Strigolactone/water/analysis/D14-holo/\\\n",
    "2-block2/run_hsa/SSTMap_HSA/D14-holo_hsa_summary.txt\",   skiprows=1, usecols=list(range(0,27)))\n",
    "\n",
    "holo_b3_hsa = np.loadtxt(\"/Users/chuankai/0-Research/4-Plant-Hormones/11-Strigolactone/water/analysis/D14-holo/\\\n",
    "3-whole/run_hsa/SSTMap_HSA/D14-holo_hsa_summary.txt\",   skiprows=1, usecols=list(range(0,27)))"
   ]
  },
  {
   "cell_type": "code",
   "execution_count": 3,
   "metadata": {},
   "outputs": [
    {
     "name": "stdout",
     "output_type": "stream",
     "text": [
      "0 En.F\n",
      "1 En.F\n",
      "2 En.F\n",
      "3 Fr.F\n",
      "4 En.U\n",
      "5 En.U\n",
      "6 En.F\n",
      "7 En.U\n",
      "8 En.F\n",
      "9 Fr.F\n",
      "10 En.U\n",
      "11 En.U\n",
      "12 En.F\n",
      "13 En.F\n",
      "14 En.F\n",
      "15 En.U\n",
      "16 En.F\n",
      "17 En.U\n",
      "18 En.U\n",
      "19 En.U\n",
      "20 En.U\n",
      "21 En.U\n",
      "22 En.F\n",
      "23 En.U\n",
      "24 En.F\n",
      "25 En.F\n",
      "26 En.F\n",
      "27 En.U\n",
      "28 En.U\n"
     ]
    },
    {
     "data": {
      "image/png": "[encoded data removed]",
      "text/plain": [
       "<Figure size 432x288 with 3 Axes>"
      ]
     },
     "metadata": {
      "needs_background": "light"
     },
     "output_type": "display_data"
    }
   ],
   "source": [
    "ax0 = plt.subplot2grid((2,3),(0,0))\n",
    "ax0.plot(np.linspace(3,7,num=101), -9.53*np.ones(101),color='green', linestyle=':',dashes=[4, 2])\n",
    "\n",
    "en_data = []\n",
    "fr_data = []\n",
    "for i in range(len(apo_b3_hsa)):\n",
    "    if apo_b3_hsa[i][12] < -9.53:\n",
    "        en_data.append(apo_b3_hsa[i])\n",
    "    if apo_b3_hsa[i][12] > -9.53:\n",
    "        fr_data.append(apo_b3_hsa[i])\n",
    "en_data = np.array(en_data)  \n",
    "fr_data = np.array(fr_data)\n",
    "\n",
    "ax0.scatter(-en_data.T[16], en_data.T[12], color='magenta', s=10, linewidths=0.5, alpha=0.5,  label='Favorable')\n",
    "ax0.scatter(-fr_data.T[16], fr_data.T[12], color='blue', s=10, linewidths=0.5, alpha=0.5, label='Unfavorable')\n",
    "\n",
    "#ax0.scatter(-apo_b3_hsa.T[16], apo_b3_hsa.T[12], color='blue', s=10, linewidths=0.5, alpha=0.5)\n",
    "ax0.set_xlim(3,6)\n",
    "ax0.set_ylim(-12,-6)\n",
    "ax0.set_xticks((3,4,5,6))\n",
    "ax0.set_yticks((-12,-10,-8,-6))\n",
    "ax0.set_xlabel(r'-TS$^{e}$ (kcal/mol)', fontweight=\"bold\")\n",
    "ax0.set_ylabel(r\"E$_{tot}$ (kcal/mol)\",   fontweight=\"bold\")\n",
    "ax0.legend(loc=1, ncol=1, scatterpoints=1, frameon=False, handlelength = 1, prop=fontP)\n",
    "\n",
    "ax1 = plt.subplot2grid((2,3),(0,1))\n",
    "ax1.plot(np.linspace(-16,0,num=101), -1.36*np.ones(101),color='grey', linestyle=':',dashes=[4, 2])\n",
    "\n",
    "en_data = []\n",
    "fr_data = []\n",
    "for i in range(len(apo_b3_hsa)):\n",
    "    if apo_b3_hsa[i][13] < -1.36:\n",
    "        en_data.append(apo_b3_hsa[i])\n",
    "    if apo_b3_hsa[i][13] > -1.36:\n",
    "        fr_data.append(apo_b3_hsa[i])\n",
    "en_data = np.array(en_data)        \n",
    "fr_data = np.array(fr_data)\n",
    "\n",
    "ax1.scatter(en_data.T[6], en_data.T[13], color='magenta', s=10, linewidths=0.5, alpha=0.5,  label='Enhanced')\n",
    "ax1.scatter(fr_data.T[6], fr_data.T[13], color='blue', s=10, linewidths=0.5, alpha=0.5, label='Frustrated')\n",
    "#ax1.scatter(apo_b3_hsa.T[6], apo_b3_hsa.T[13], color='blue', s=10, linewidths=0.5, alpha=0.5)\n",
    "ax1.set_xlim(-8,0)\n",
    "ax1.set_ylim(-3,0)\n",
    "ax1.set_xticks((-8,-6,-4,-2,0))\n",
    "ax1.set_yticks((-3, -2,-1,0))\n",
    "ax1.set_xlabel(r'E$_{sw}$ (kcal/mol)', fontweight=\"bold\")\n",
    "ax1.set_ylabel(\"$\\mathregular{E^{nbr}_{ww}}$ (kcal/mol)\",   fontweight=\"bold\")\n",
    "ax1.legend(loc=1, ncol=1, scatterpoints=1, frameon=False, handlelength = 1, prop=fontP)\n",
    "\n",
    "ax2 = plt.subplot2grid((2,3),(0,2))\n",
    "ax2.plot(np.linspace(-12,-6,num=101), -1.36*np.ones(101), color='grey', linestyle=':',dashes=[4, 2])\n",
    "ax2.plot(-9.53*np.ones(101), np.linspace(-3,1,num=101), color='green', linestyle=':',dashes=[4, 2])\n",
    "\n",
    "enF_data = []\n",
    "enU_data = []\n",
    "frF_data = []\n",
    "frU_data = []\n",
    "for i in range(len(apo_b3_hsa)):\n",
    "    if apo_b3_hsa[i][12] < -9.53 and apo_b3_hsa[i][13] < -1.36:\n",
    "        print(i, 'En.F')\n",
    "        enF_data.append(apo_b3_hsa[i])\n",
    "    if apo_b3_hsa[i][12] > -9.53 and apo_b3_hsa[i][13] < -1.36:\n",
    "        print(i, 'En.U')\n",
    "        enU_data.append(apo_b3_hsa[i])\n",
    "    if apo_b3_hsa[i][12] < -9.53 and apo_b3_hsa[i][13] > -1.36:\n",
    "        print(i, 'Fr.F')\n",
    "        frF_data.append(apo_b3_hsa[i])\n",
    "    if apo_b3_hsa[i][12] > -9.53 and apo_b3_hsa[i][13] > -1.36:\n",
    "        print(i, 'Fr.U')\n",
    "        frU_data.append(apo_b3_hsa[i])\n",
    "enF_data = np.array(enF_data)        \n",
    "frF_data = np.array(frF_data)\n",
    "enU_data = np.array(enU_data)        \n",
    "frU_data = np.array(frU_data)\n",
    "\n",
    "ax2.scatter(enF_data.T[12], enF_data.T[13], color='magenta', s=10, linewidths=0.5, alpha=0.5,  label='En.F')\n",
    "ax2.scatter(frF_data.T[12], frF_data.T[13], color='blue', s=10, linewidths=0.5, alpha=0.5, label='Fr.F')\n",
    "ax2.scatter(enU_data.T[12], enU_data.T[13], color='yellow', s=10, linewidths=0.5, alpha=0.5, label='En.U')\n",
    "#ax2.scatter(frU_data.T[12], frU_data.T[13], color='orange', s=10, linewidths=0.5, alpha=0.5, label='Fr.U')\n",
    "\n",
    "#ax2.scatter(apo_b3_hsa.T[12], apo_b3_hsa.T[13], color='blue', s=10, linewidths=0.5, alpha=0.5)\n",
    "ax2.set_xlim(-12,-6)\n",
    "ax2.set_ylim(-3,0)\n",
    "ax2.set_xticks((-12,-10,-8,-6))\n",
    "ax2.set_yticks((-3, -2,-1,0))\n",
    "ax2.set_xlabel(r'E$_{tot}$ (kcal/mol)', fontweight=\"bold\")\n",
    "ax2.set_ylabel(\"$\\mathregular{E^{nbr}_{ww}}$ (kcal/mol)\",   fontweight=\"bold\")\n",
    "ax2.legend(loc=1, ncol=1, scatterpoints=1, frameon=False, handlelength = 1, prop=fontP)\n",
    "\n",
    "plt.tight_layout()\n",
    "plt.savefig('/Users/chuankai/0-Research/4-Plant-Hormones/11-Strigolactone/water/analysis/Figures/\\\n",
    "Figure_Water_APO.png', figsize=(10,10), dpi=1000, bbox_inches='tight')"
   ]
  },
  {
   "cell_type": "code",
   "execution_count": 10,
   "metadata": {},
   "outputs": [
    {
     "data": {
      "image/png": "[encoded data removed]",
      "text/plain": [
       "<Figure size 432x288 with 2 Axes>"
      ]
     },
     "metadata": {
      "needs_background": "light"
     },
     "output_type": "display_data"
    }
   ],
   "source": [
    "ax1 = plt.subplot2grid((2,3),(0,1))\n",
    "ax1.set_xlim(3,6)\n",
    "ax1.set_ylim(-12,-6)\n",
    "ax1.set_xticks((3,4,5,6))\n",
    "ax1.set_yticks((-12,-10,-8,-6))\n",
    "ax1.set_xlabel(r'-TS$^{e}$ (kcal/mol)', fontweight=\"bold\")\n",
    "ax1.set_ylabel(r\"E$_{tot}$ (kcal/mol)\",   fontweight=\"bold\")\n",
    "\n",
    "excluded_idx   = [6,10,11,12,15,16,17,18,20,21,22,25]\n",
    "elusive_idx    = [0,1,2,3,4,5,7,8,9,13,14,19,23,24,26,27,28]\n",
    "excluded_data  = []\n",
    "elusive_data   = []\n",
    "\n",
    "for idx in excluded_idx:\n",
    "    excluded_data.append(apo_b3_hsa[idx])\n",
    "for idx in elusive_idx:\n",
    "    elusive_data.append(apo_b3_hsa[idx])\n",
    "\n",
    "ax1.scatter(-np.array(excluded_data).T[16], np.array(excluded_data).T[12], color='blue', label='Excluded sites (L)', s=10, linewidths=0.5, alpha=0.5)\n",
    "ax1.scatter(-np.array(elusive_data).T[16], np.array(elusive_data).T[12], color='magenta', label='Nonexcluded sites', s=10, linewidths=0.1, alpha=0.5)\n",
    "ax1.plot(np.linspace(3,7,num=101), -9.53*np.ones(101),color='green', linestyle='--')\n",
    "ax1.legend(loc=1, ncol=1, scatterpoints=1, frameon=False, handlelength = 1, prop=fontP)\n",
    "\n",
    "ax2 = plt.subplot2grid((2,3),(0,0))\n",
    "ax2.set_ylim(0,20)\n",
    "ax2.set_yticks((0,4,8,12,16,20))\n",
    "ax2.set_xlabel(r\"Type\", fontweight=\"bold\")\n",
    "ax2.set_ylabel(r\"Number of sites\", fontweight=\"bold\")\n",
    "\n",
    "labels = ['En.F', 'En.U', 'Fr.F', 'Fr.U']\n",
    "excluded_L  = np.array([5, 7, 0, 0])\n",
    "#excluded_P  = np.array([0, 0, 0, 0])\n",
    "nonexcluded = np.array([8, 7, 2, 0])\n",
    "width = 0.35       # the width of the bars: can also be len(x) sequence\n",
    "\n",
    "ax2.bar(labels, excluded_L,  width, label='Excluded sites (L)', color='blue')\n",
    "#ax2.bar(labels, excluded_P,  width, bottom=excluded_L, label='Excluded sites (P)', color='red')\n",
    "ax2.bar(labels, nonexcluded, width, bottom=excluded_L, label='Nonexcluded sites', color='magenta')\n",
    "\n",
    "ax2.legend(loc=1, ncol=1, frameon=False, handlelength = 1, prop=fontP)\n",
    "\n",
    "plt.tight_layout()\n",
    "plt.savefig('/Users/chuankai/0-Research/4-Plant-Hormones/11-Strigolactone/water/analysis/Figures/\\\n",
    "Figure_Water_Excluded.png', figsize=(10,10), dpi=1000, bbox_inches='tight')"
   ]
  },
  {
   "cell_type": "code",
   "execution_count": 7,
   "metadata": {},
   "outputs": [
    {
     "data": {
      "image/png": "[encoded data removed]",
      "text/plain": [
       "<Figure size 432x288 with 2 Axes>"
      ]
     },
     "metadata": {
      "needs_background": "light"
     },
     "output_type": "display_data"
    }
   ],
   "source": [
    "ax0 = plt.subplot2grid((2,2),(0,0))\n",
    "ax1 = plt.subplot2grid((2,2),(0,1))\n",
    "ax0.scatter(-apo_b1_hsa.T[16], apo_b1_hsa.T[12], color='magenta',  label='0-50,000 frames', s=10, linewidths=0.5, alpha=0.5)\n",
    "ax0.scatter(-apo_b2_hsa.T[16], apo_b2_hsa.T[12], color='orange', label='50,000-100,000 frames', s=10, linewidths=0.5, alpha=0.5)\n",
    "ax0.scatter(-apo_b3_hsa.T[16], apo_b3_hsa.T[12], color='blue',  label='0-100,000 frames', s=10, linewidths=0.5, alpha=0.5)\n",
    "ax0.set_xlim(2,7)\n",
    "ax0.set_ylim(-14,-6)\n",
    "ax0.set_xticks((2,3,4,5,6,7))\n",
    "ax0.set_yticks((-14,-12,-10,-8,-6))\n",
    "ax0.set_xlabel(r'-TS$^{e}$ (kcal/mol)', fontweight=\"bold\")\n",
    "ax0.set_ylabel(r\"E$_{tot}$ (kcal/mol)\",   fontweight=\"bold\")\n",
    "ax0.legend(loc=3, ncol=1, scatterpoints=1, frameon=False, handlelength = 1, prop=fontP)\n",
    "ax1.scatter(-holo_b1_hsa.T[16], holo_b1_hsa.T[12], color='magenta',  label='0-50,000 frames', s=10, linewidths=0.5, alpha=0.5)\n",
    "ax1.scatter(-holo_b2_hsa.T[16], holo_b2_hsa.T[12], color='blue', label='50,000-100,000 frames', s=10, linewidths=0.5, alpha=0.5)\n",
    "ax1.scatter(-holo_b3_hsa.T[16], holo_b3_hsa.T[12], color='orange', label='0-100,000 frames', s=10, linewidths=0.5, alpha=0.5)\n",
    "ax1.set_xlim(2,7)\n",
    "ax1.set_ylim(-14,-6)\n",
    "ax1.set_xticks((2,3,4,5,6,7))\n",
    "ax1.set_yticks((-14,-12,-10,-8,-6))\n",
    "ax1.set_xlabel(r'-TS$^{e}$ (kcal/mol)', fontweight=\"bold\")\n",
    "ax1.set_ylabel(r\"E$_{tot}$ (kcal/mol)\",   fontweight=\"bold\")\n",
    "ax1.legend(loc=3, ncol=1, scatterpoints=1, frameon=False, handlelength = 1, prop=fontP)\n",
    "plt.tight_layout()\n",
    "plt.savefig('/Users/chuankai/0-Research/4-Plant-Hormones/11-Strigolactone/water/analysis/Figures/\\\n",
    "Figure_APO_Convergence.png', figsize=(10,10), dpi=1000, bbox_inches='tight')"
   ]
  },
  {
   "cell_type": "code",
   "execution_count": 8,
   "metadata": {},
   "outputs": [
    {
     "name": "stdout",
     "output_type": "stream",
     "text": [
      "0.6392040000000065 -52.90956\n"
     ]
    }
   ],
   "source": [
    "# Enthalpy changes \n",
    "excluded_idx   = [6,10,11,12,15,16,17,18,20,21,22,25]\n",
    "bulk_energy    = -9.53\n",
    "\n",
    "dE, dS = 0, 0\n",
    "for idx in excluded_idx:\n",
    "    dE += bulk_energy - apo_b3_hsa.T[12][idx] \n",
    "    dS += apo_b3_hsa.T[16][idx]\n",
    "print(dE, dS)"
   ]
  },
  {
   "cell_type": "code",
   "execution_count": 11,
   "metadata": {},
   "outputs": [
    {
     "name": "stdout",
     "output_type": "stream",
     "text": [
      "19\n",
      "1 0.8508610000000001 0.3667189999999998\n",
      "2 0.9347459999999987 0.027594000000000563\n",
      "3 1.9469510000000003 -0.6477130000000004\n",
      "5 0.7130540000000005 -1.2425860000000002\n",
      "6 0.5297000000000001 0.14767300000000017\n",
      "4.975312 -1.348313\n"
     ]
    },
    {
     "data": {
      "image/png": "[encoded data removed]",
      "text/plain": [
       "<Figure size 432x288 with 1 Axes>"
      ]
     },
     "metadata": {
      "needs_background": "light"
     },
     "output_type": "display_data"
    }
   ],
   "source": [
    "# Enthalpy changes \n",
    "conserved_idx   = [1, 2, 3, 5, 6]\n",
    "holo_idx        = [6, 3, 4, 0, 8]\n",
    "\n",
    "print(len(holo_b3_hsa.T[16]))\n",
    "\n",
    "dE, dS = 0, 0\n",
    "ddEs = []\n",
    "ddSs = []\n",
    "for i, idx in enumerate(conserved_idx):\n",
    "    ddE = holo_b3_hsa.T[12][holo_idx[i]] - apo_b3_hsa.T[12][idx] \n",
    "    ddS = holo_b3_hsa.T[16][holo_idx[i]] - apo_b3_hsa.T[16][idx]\n",
    "    dE += ddE\n",
    "    dS += ddS\n",
    "    ddEs.append(ddE)\n",
    "    ddSs.append(ddS)\n",
    "    print(idx, ddE, ddS)\n",
    "print(dE, dS)\n",
    "\n",
    "ax1 = plt.subplot2grid((2,2),(0,0))\n",
    "ax1.set_ylim(-6,6)\n",
    "ax1.set_yticks((-5,-2.5,0,2.5,5))\n",
    "\n",
    "width  = 0.3\n",
    "index  = np.arange(5)\n",
    "\n",
    "ax1.bar(np.array(index) + 0.85, ddEs,  width, label=r'$\\Delta$H', color='blue')\n",
    "ax1.bar(np.array(index) + 1.15, ddSs,  width, label=r'$\\Delta$(-TS)', color='magenta')\n",
    "ax1.set_xlabel(r\"Hydration sites\", fontweight=\"bold\")\n",
    "ax1.set_xticks(np.array(index)+1)\n",
    "ax1.set_xticklabels((str(r) for r in conserved_idx))\n",
    "ax1.set_ylabel(r\"kcal/mol\", fontweight=\"bold\")\n",
    "ax1.legend(loc=2, ncol=2, frameon=False, handlelength = 1, prop=fontP)\n",
    "\n",
    "plt.tight_layout()\n",
    "plt.savefig('/Users/chuankai/0-Research/4-Plant-Hormones/11-Strigolactone/water/analysis/Figures/\\\n",
    "Figure_Water_HOLO_DIFF.png', figsize=(10,10), dpi=1000, bbox_inches='tight')"
   ]
  },
  {
   "cell_type": "code",
   "execution_count": 18,
   "metadata": {},
   "outputs": [
    {
     "name": "stdout",
     "output_type": "stream",
     "text": [
      "1 En.U\n",
      "2 En.F\n",
      "3 En.U\n",
      "4 En.F\n",
      "5 En.U\n",
      "6 En.U\n",
      "7 Fr.U\n",
      "8 En.F\n",
      "9 En.U\n",
      "10 En.U\n",
      "11 En.U\n",
      "12 En.F\n",
      "13 En.F\n",
      "14 En.U\n",
      "15 En.U\n",
      "16 En.U\n",
      "17 En.U\n",
      "18 En.U\n"
     ]
    },
    {
     "data": {
      "image/png": "[encoded data removed]",
      "text/plain": [
       "<Figure size 432x288 with 3 Axes>"
      ]
     },
     "metadata": {
      "needs_background": "light"
     },
     "output_type": "display_data"
    }
   ],
   "source": [
    "ax0 = plt.subplot2grid((2,3),(0,0))\n",
    "ax0.plot(np.linspace(3,7,num=101), -9.53*np.ones(101),color='green', linestyle=':',dashes=[4, 2])\n",
    "\n",
    "en_data = []\n",
    "fr_data = []\n",
    "for i in range(len(holo_b3_hsa)):\n",
    "    if holo_b3_hsa[i][12] < -9.53:\n",
    "        en_data.append(holo_b3_hsa[i])\n",
    "    if holo_b3_hsa[i][12] > -9.53:\n",
    "        fr_data.append(holo_b3_hsa[i])\n",
    "en_data = np.array(en_data)\n",
    "fr_data = np.array(fr_data)\n",
    "\n",
    "ax0.scatter(-en_data.T[16], en_data.T[12], color='magenta', s=10, linewidths=0.5, alpha=0.5,  label='Favorable')\n",
    "ax0.scatter(-fr_data.T[16], fr_data.T[12], color='blue', s=10, linewidths=0.5, alpha=0.5, label='Unfavorable')\n",
    "\n",
    "#ax0.scatter(-apo_b3_hsa.T[16], apo_b3_hsa.T[12], color='blue', s=10, linewidths=0.5, alpha=0.5)\n",
    "ax0.set_xlim(3,7)\n",
    "ax0.set_ylim(-12,-6)\n",
    "ax0.set_xticks((3,4,5,6,7))\n",
    "ax0.set_yticks((-14,-12,-10,-8,-6))\n",
    "ax0.set_xlabel(r'-TS$^{e}$ (kcal/mol)', fontweight=\"bold\")\n",
    "ax0.set_ylabel(r\"E$_{tot}$ (kcal/mol)\",   fontweight=\"bold\")\n",
    "ax0.legend(loc=1, ncol=1, scatterpoints=1, frameon=False, handlelength = 1, prop=fontP)\n",
    "\n",
    "ax1 = plt.subplot2grid((2,3),(0,1))\n",
    "ax1.plot(np.linspace(-16,0,num=101), -1.36*np.ones(101),color='grey', linestyle=':',dashes=[4, 2])\n",
    "\n",
    "en_data = []\n",
    "fr_data = []\n",
    "for i in range(len(holo_b3_hsa)):\n",
    "    if holo_b3_hsa[i][13] < -1.36:\n",
    "        en_data.append(holo_b3_hsa[i])\n",
    "    if holo_b3_hsa[i][13] > -1.36:\n",
    "        fr_data.append(holo_b3_hsa[i])\n",
    "en_data = np.array(en_data)        \n",
    "fr_data = np.array(fr_data)\n",
    "\n",
    "ax1.scatter(en_data.T[6], en_data.T[13], color='magenta', s=10, linewidths=0.5, alpha=0.5,  label='Enhanced')\n",
    "ax1.scatter(fr_data.T[6], fr_data.T[13], color='blue', s=10, linewidths=0.5, alpha=0.5, label='Frustrated')\n",
    "#ax1.scatter(apo_b3_hsa.T[6], apo_b3_hsa.T[13], color='blue', s=10, linewidths=0.5, alpha=0.5)\n",
    "ax1.set_xlim(-12,0)\n",
    "ax1.set_ylim(-3,1)\n",
    "ax1.set_xticks((-12,-8,-4,0))\n",
    "ax1.set_yticks((-3,-2,-1,0,1))\n",
    "ax1.set_xlabel(r'E$_{sw}$ (kcal/mol)', fontweight=\"bold\")\n",
    "ax1.set_ylabel(\"$\\mathregular{E^{nbr}_{ww}}$ (kcal/mol)\",   fontweight=\"bold\")\n",
    "ax1.legend(loc=1, ncol=1, scatterpoints=1, frameon=False, handlelength = 1, prop=fontP)\n",
    "\n",
    "ax2 = plt.subplot2grid((2,3),(0,2))\n",
    "ax2.plot(np.linspace(-14,-6,num=101), -1.36*np.ones(101), color='grey', linestyle=':',dashes=[4, 2])\n",
    "ax2.plot(-9.53*np.ones(101), np.linspace(-3,1,num=101), color='green', linestyle=':',dashes=[4, 2])\n",
    "\n",
    "enF_data = []\n",
    "enU_data = []\n",
    "frF_data = []\n",
    "frU_data = []\n",
    "for i in range(len(holo_b3_hsa)):\n",
    "    if holo_b3_hsa[i][12] <= -9.53 and holo_b3_hsa[i][13] <= -1.36:\n",
    "        print(i, 'En.F')\n",
    "        enF_data.append(holo_b3_hsa[i])\n",
    "    if holo_b3_hsa[i][12] >= -9.53 and holo_b3_hsa[i][13] <= -1.36:\n",
    "        print(i, 'En.U')\n",
    "        enU_data.append(holo_b3_hsa[i])\n",
    "    if holo_b3_hsa[i][12] <= -9.53 and holo_b3_hsa[i][13] >= -1.36:\n",
    "        print(i, 'Fr.F')\n",
    "        frF_data.append(holo_b3_hsa[i])\n",
    "    if holo_b3_hsa[i][12] >= -9.53 and holo_b3_hsa[i][13] >= -1.36:\n",
    "        print(i, 'Fr.U')\n",
    "        frU_data.append(holo_b3_hsa[i])\n",
    "enF_data = np.array(enF_data)        \n",
    "frF_data = np.array(frF_data)\n",
    "enU_data = np.array(enU_data)        \n",
    "frU_data = np.array(frU_data)\n",
    "\n",
    "ax2.scatter(enF_data.T[12], enF_data.T[13], color='magenta', s=10, linewidths=0.5, alpha=0.5,  label='En.F')\n",
    "#ax2.scatter(frF_data.T[12], frF_data.T[13], color='blue', s=10, linewidths=0.5, alpha=0.5, label='Fr.F')\n",
    "ax2.scatter(enU_data.T[12], enU_data.T[13], color='yellow', s=10, linewidths=0.5, alpha=0.5, label='En.U')\n",
    "ax2.scatter(frU_data.T[12], frU_data.T[13], color='orange', s=10, linewidths=0.5, alpha=0.5, label='Fr.U')\n",
    "\n",
    "#ax2.scatter(apo_b3_hsa.T[12], apo_b3_hsa.T[13], color='blue', s=10, linewidths=0.5, alpha=0.5)\n",
    "ax2.set_xlim(-14,-6)\n",
    "ax2.set_ylim(-3,1)\n",
    "ax2.set_xticks((-14,-12,-10,-8,-6))\n",
    "ax2.set_yticks((-3, -2,-1,0,1))\n",
    "ax2.set_xlabel(r'E$_{tot}$ (kcal/mol)', fontweight=\"bold\")\n",
    "ax2.set_ylabel(\"$\\mathregular{E^{nbr}_{ww}}$ (kcal/mol)\",   fontweight=\"bold\")\n",
    "ax2.legend(loc=1, ncol=1, scatterpoints=1, frameon=False, handlelength = 1, prop=fontP)\n",
    "\n",
    "plt.tight_layout()\n",
    "plt.savefig('/Users/chuankai/0-Research/4-Plant-Hormones/11-Strigolactone/water/analysis/Figures/\\\n",
    "Figure_Water_HOLO.png', figsize=(10,10), dpi=1000, bbox_inches='tight')"
   ]
  },
  {
   "cell_type": "code",
   "execution_count": null,
   "metadata": {},
   "outputs": [],
   "source": []
  }
 ],
 "metadata": {
  "kernelspec": {
   "display_name": "Python 3",
   "language": "python",
   "name": "python3"
  },
  "language_info": {
   "codemirror_mode": {
    "name": "ipython",
    "version": 3
   },
   "file_extension": ".py",
   "mimetype": "text/x-python",
   "name": "python",
   "nbconvert_exporter": "python",
   "pygments_lexer": "ipython3",
   "version": "3.7.3"
  }
 },
 "nbformat": 4,
 "nbformat_minor": 1
}
