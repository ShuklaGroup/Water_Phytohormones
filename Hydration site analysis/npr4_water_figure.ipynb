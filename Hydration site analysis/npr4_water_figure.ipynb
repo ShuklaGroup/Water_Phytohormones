{
 "cells": [
  {
   "cell_type": "code",
   "execution_count": 1,
   "metadata": {},
   "outputs": [],
   "source": [
    "import numpy as np\n",
    "import matplotlib.pyplot as plt\n",
    "import math\n",
    "from matplotlib import rc\n",
    "rc('font',**{'family':'sans-serif', 'sans-serif':['Helvetica'], 'size': '12', 'weight':'normal'})\n",
    "params = {'mathtext.default': 'regular' }\n",
    "plt.rcParams.update(params)\n",
    "plt.rcParams['text.usetex'] = False\n",
    "plt.rcParams['axes.unicode_minus'] = False\n",
    "\n",
    "from matplotlib.font_manager import FontProperties\n",
    "fontP = FontProperties()\n",
    "fontP.set_size('6')\n",
    "%matplotlib inline"
   ]
  },
  {
   "cell_type": "markdown",
   "metadata": {},
   "source": [
    "# Hydration site analysis - without restraints"
   ]
  },
  {
   "cell_type": "code",
   "execution_count": 2,
   "metadata": {},
   "outputs": [],
   "source": [
    "holo_hsa_SA = np.loadtxt(\"../gist/analysis/holo/hsa/SSTMap_HSA/hsa_hsa_summary.txt\", skiprows=1, usecols=list(range(0,27))) # Crystal structure without ligand"
   ]
  },
  {
   "cell_type": "code",
   "execution_count": 13,
   "metadata": {},
   "outputs": [
    {
     "name": "stdout",
     "output_type": "stream",
     "text": [
      "0 En.U\n",
      "1 En.U\n",
      "2 En.U\n",
      "3 En.U\n"
     ]
    },
    {
     "name": "stderr",
     "output_type": "stream",
     "text": [
      "<ipython-input-13-e213e392ea00>:99: MatplotlibDeprecationWarning: savefig() got unexpected keyword argument \"figsize\" which is no longer supported as of 3.3 and will become an error two minor releases later\n",
      "  plt.savefig('Figure_Water_HSA_holo.png', figsize=(10,10), dpi=1000, bbox_inches='tight')\n"
     ]
    },
    {
     "data": {
      "image/png": "[encoded data removed]",
      "text/plain": [
       "<Figure size 432x288 with 3 Axes>"
      ]
     },
     "metadata": {
      "needs_background": "light"
     },
     "output_type": "display_data"
    }
   ],
   "source": [
    "file_to_plot = holo_hsa_SA\n",
    "\n",
    "ax0 = plt.subplot2grid((2,3),(0,0))\n",
    "\n",
    "f_u_threshold = -9.53 # From bulk water\n",
    "ax0.plot(np.linspace(3,7,num=101), f_u_threshold*np.ones(101),color='green', linestyle=':',dashes=[4, 2])\n",
    "\n",
    "f_data = []\n",
    "u_data = []\n",
    "\n",
    "for i in range(len(file_to_plot)):\n",
    "    if file_to_plot[i][12] < f_u_threshold:\n",
    "        f_data.append(file_to_plot[i])\n",
    "    if file_to_plot[i][12] > f_u_threshold:\n",
    "        u_data.append(file_to_plot[i])\n",
    "f_data = np.array([[100, 100]])\n",
    "u_data = np.array(u_data)\n",
    "\n",
    "ax0.scatter(-f_data.T[0], f_data.T[1], color='magenta', s=10, linewidths=0.5, alpha=0.5,  label='Favorable')\n",
    "ax0.scatter(-u_data.T[16], u_data.T[12], color='blue', s=10, linewidths=0.5, alpha=0.5, label='Unfavorable')\n",
    "\n",
    "#ax0.scatter(-file_to_plot.T[16], file_to_plot.T[12], color='blue', s=10, linewidths=0.5, alpha=0.5)\n",
    "ax0.set_xlim(3,6)\n",
    "ax0.set_ylim(-10,-4)\n",
    "ax0.set_xticks((3,4,5,6))\n",
    "ax0.set_yticks((-10,-8,-6, -4))\n",
    "ax0.set_xlabel(r'-TS$^{e}$ (kcal/mol)', fontweight=\"bold\")\n",
    "ax0.set_ylabel(r\"E$_{tot}$ (kcal/mol)\",   fontweight=\"bold\")\n",
    "ax0.legend(loc=1, ncol=1, scatterpoints=1, frameon=False, handlelength = 1, prop=fontP)\n",
    "\n",
    "ax1 = plt.subplot2grid((2,3),(0,1))\n",
    "\n",
    "en_fr_threshold = -1.36 # From bulk water\n",
    "ax1.plot(np.linspace(-16,0,num=101), en_fr_threshold*np.ones(101),color='grey', linestyle=':',dashes=[4, 2])\n",
    "\n",
    "en_data = []\n",
    "fr_data = []\n",
    "\n",
    "for i in range(len(file_to_plot)):\n",
    "    if file_to_plot[i][13] < en_fr_threshold:\n",
    "        en_data.append(file_to_plot[i])\n",
    "    if file_to_plot[i][13] > en_fr_threshold:\n",
    "        fr_data.append(file_to_plot[i])\n",
    "en_data = np.array(en_data)        \n",
    "fr_data = np.array([[100, 100]])\n",
    "\n",
    "ax1.scatter(en_data.T[6], en_data.T[13], color='magenta', s=10, linewidths=0.5, alpha=0.5,  label='Enhanced')\n",
    "ax1.scatter(fr_data.T[0], fr_data.T[1], color='blue', s=10, linewidths=0.5, alpha=0.5, label='Frustrated')\n",
    "#ax1.scatter(file_to_plot.T[6], file_to_plot.T[13], color='blue', s=10, linewidths=0.5, alpha=0.5)\n",
    "ax1.set_xlim(-8,-2)\n",
    "ax1.set_ylim(-3,0)\n",
    "ax1.set_xticks((-8,-6,-4, -2))\n",
    "ax1.set_yticks((-3, -2,-1, 0))\n",
    "ax1.set_xlabel(r'E$_{sw}$ (kcal/mol)', fontweight=\"bold\")\n",
    "ax1.set_ylabel(\"$\\mathregular{E^{nbr}_{ww}}$ (kcal/mol)\",   fontweight=\"bold\")\n",
    "ax1.legend(loc=1, ncol=1, scatterpoints=1, frameon=False, handlelength = 1, prop=fontP)\n",
    "\n",
    "ax2 = plt.subplot2grid((2,3),(0,2))\n",
    "ax2.plot(np.linspace(-14,0,num=101), en_fr_threshold*np.ones(101), color='grey', linestyle=':',dashes=[4, 2])\n",
    "ax2.plot(f_u_threshold*np.ones(101), np.linspace(-3,1,num=101), color='green', linestyle=':',dashes=[4, 2])\n",
    "\n",
    "enF_data = []\n",
    "enU_data = []\n",
    "frF_data = []\n",
    "frU_data = []\n",
    "for i in range(len(file_to_plot)):\n",
    "    if file_to_plot[i][12] < f_u_threshold and file_to_plot[i][13] < en_fr_threshold:\n",
    "        print(i, 'En.F')\n",
    "        enF_data.append(file_to_plot[i])\n",
    "    if file_to_plot[i][12] > f_u_threshold and file_to_plot[i][13] < en_fr_threshold:\n",
    "        print(i, 'En.U')\n",
    "        enU_data.append(file_to_plot[i])\n",
    "    if file_to_plot[i][12] < f_u_threshold and file_to_plot[i][13] > en_fr_threshold:\n",
    "        print(i, 'Fr.F')\n",
    "        frF_data.append(file_to_plot[i])\n",
    "    if file_to_plot[i][12] > f_u_threshold and file_to_plot[i][13] > en_fr_threshold:\n",
    "        print(i, 'Fr.U')\n",
    "        frU_data.append(file_to_plot[i])\n",
    "enF_data = np.array([100, 100])        \n",
    "frF_data = np.array([100, 100])\n",
    "enU_data = np.array(enU_data)        \n",
    "frU_data = np.array([100, 100]) # np.array(frU_data)\n",
    "\n",
    "# ax2.scatter(enF_data.T[0], enF_data.T[1], color='magenta', s=10, linewidths=0.5, alpha=0.5,  label='En.F')\n",
    "# ax2.scatter(frF_data.T[0], frF_data.T[1], color='blue', s=10, linewidths=0.5, alpha=0.5, label='Fr.F')\n",
    "ax2.scatter(enU_data.T[12], enU_data.T[13], color='yellow', s=10, linewidths=0.5, alpha=0.5, label='En.U')\n",
    "# ax2.scatter(frU_data.T[0], frU_data.T[1], color='orange', s=10, linewidths=0.5, alpha=0.5, label='Fr.U')\n",
    "\n",
    "#ax2.scatter(file_to_plot.T[12], file_to_plot.T[13], color='blue', s=10, linewidths=0.5, alpha=0.5)\n",
    "ax2.set_xlim(-12,-4)\n",
    "ax2.set_ylim(-3,0)\n",
    "ax2.set_xticks((-12,-10,-8,-6, -4))\n",
    "ax2.set_yticks((-3,-2,-1, 0))\n",
    "ax2.set_xlabel(r'E$_{tot}$ (kcal/mol)', fontweight=\"bold\")\n",
    "ax2.set_ylabel(\"$\\mathregular{E^{nbr}_{ww}}$ (kcal/mol)\",   fontweight=\"bold\")\n",
    "ax2.legend(loc=1, ncol=1, scatterpoints=1, frameon=False, handlelength = 1, prop=fontP)\n",
    "\n",
    "plt.tight_layout()\n",
    "plt.savefig('Figure_Water_HSA_holo.png', figsize=(10,10), dpi=1000, bbox_inches='tight')"
   ]
  },
  {
   "cell_type": "code",
   "execution_count": 4,
   "metadata": {
    "collapsed": true,
    "jupyter": {
     "outputs_hidden": true,
     "source_hidden": true
    }
   },
   "outputs": [
    {
     "data": {
      "image/png": "[encoded data removed]",
      "text/plain": [
       "<Figure size 432x288 with 2 Axes>"
      ]
     },
     "metadata": {
      "needs_background": "light"
     },
     "output_type": "display_data"
    }
   ],
   "source": [
    "ax1 = plt.subplot2grid((2,3),(0,1))\n",
    "ax1.set_xlim(3,7)\n",
    "ax1.set_ylim(-14,-8)\n",
    "ax1.set_xticks((3,4,5,6,7))\n",
    "ax1.set_yticks((-14,-12,-10,-8))\n",
    "ax1.set_xlabel(r'-TS$^{e}$ (kcal/mol)', fontweight=\"bold\")\n",
    "ax1.set_ylabel(r\"E$_{tot}$ (kcal/mol)\",   fontweight=\"bold\")\n",
    "\n",
    "excluded_idx     = [0,2,3,10,11,12]\n",
    "excluded_jae_idx = [9,13,14,15] # Excluded by protein\n",
    "elusive_idx    = [1,4,5,6,7,8]\n",
    "excluded_data  = []\n",
    "excluded_jae_data = []\n",
    "elusive_data   = []\n",
    "\n",
    "for idx in excluded_idx:\n",
    "    excluded_data.append(apo_b3_hsa[idx])\n",
    "for idx in excluded_jae_idx:\n",
    "    excluded_jae_data.append(apo_b3_hsa[idx])\n",
    "for idx in elusive_idx:\n",
    "    elusive_data.append(apo_b3_hsa[idx])\n",
    "\n",
    "ax1.scatter(-np.array(excluded_data).T[16], np.array(excluded_data).T[12], color='blue', label='Excluded sites (L)', s=10, linewidths=0.5, alpha=0.5)\n",
    "ax1.scatter(-np.array(excluded_jae_data).T[16], np.array(excluded_jae_data).T[12], color='red', label='Excluded sites (P)', s=10, linewidths=0.1, alpha=0.5)\n",
    "ax1.scatter(-np.array(elusive_data).T[16], np.array(elusive_data).T[12], color='magenta', label='Nonexcluded sites', s=10, linewidths=0.1, alpha=0.5)\n",
    "ax1.plot(np.linspace(3,7,num=101), -9.53*np.ones(101),color='green', linestyle='--')\n",
    "ax1.legend(loc=3, ncol=1, scatterpoints=1, frameon=False, handlelength = 1, prop=fontP)\n",
    "\n",
    "ax2 = plt.subplot2grid((2,3),(0,0))\n",
    "ax2.set_ylim(0,10)\n",
    "ax2.set_yticks((0,2,4,6,8,10))\n",
    "ax2.set_xlabel(r\"Type\", fontweight=\"bold\")\n",
    "ax2.set_ylabel(r\"Number of sites\", fontweight=\"bold\")\n",
    "\n",
    "labels = ['En.F', 'En.U', 'Fr.F', 'Fr.U']\n",
    "excluded_L  = np.array([4, 0, 1, 1])\n",
    "excluded_P  = np.array([2, 1, 1, 0])\n",
    "nonexcluded = np.array([1, 1, 3, 1])\n",
    "width = 0.35       # the width of the bars: can also be len(x) sequence\n",
    "\n",
    "ax2.bar(labels, excluded_L,  width, label='Excluded sites (L)', color='blue')\n",
    "ax2.bar(labels, excluded_P,  width, bottom=excluded_L, label='Excluded sites (P)', color='red')\n",
    "ax2.bar(labels, nonexcluded, width, bottom=excluded_L+excluded_P, label='Nonexcluded sites', color='magenta')\n",
    "\n",
    "ax2.legend(loc=1, ncol=1, frameon=False, handlelength = 1, prop=fontP)\n",
    "\n",
    "plt.tight_layout()\n",
    "plt.savefig('/Users/chuankai/0-Research/4-Plant-Hormones/1-Auxin/water/analysis/Figures/\\\n",
    "Figure_Water_Excluded.png', figsize=(10,10), dpi=1000, bbox_inches='tight')"
   ]
  },
  {
   "cell_type": "code",
   "execution_count": 4,
   "metadata": {},
   "outputs": [
    {
     "name": "stderr",
     "output_type": "stream",
     "text": [
      "<ipython-input-4-e14213ea6776>:50: MatplotlibDeprecationWarning: savefig() got unexpected keyword argument \"figsize\" which is no longer supported as of 3.3 and will become an error two minor releases later\n",
      "  plt.savefig('Figure_Water_exluded_holo.png', figsize=(10,10), dpi=1000, bbox_inches='tight')\n"
     ]
    },
    {
     "data": {
      "image/png": "[encoded data removed]",
      "text/plain": [
       "<Figure size 432x288 with 2 Axes>"
      ]
     },
     "metadata": {
      "needs_background": "light"
     },
     "output_type": "display_data"
    }
   ],
   "source": [
    "file_to_plot = holo_hsa_SA\n",
    "\n",
    "ax1 = plt.subplot2grid((2,3),(0,1))\n",
    "ax1.set_xlim(3,7)\n",
    "ax1.set_ylim(-12,-4)\n",
    "ax1.set_xticks((3,4,5,6,7))\n",
    "ax1.set_yticks((-12,-10,-8,-6,-4))\n",
    "ax1.set_xlabel(r'-TS$^{e}$ (kcal/mol)', fontweight=\"normal\")\n",
    "ax1.set_ylabel(r\"E$_{tot}$ (kcal/mol)\",   fontweight=\"normal\")\n",
    "\n",
    "excluded_idx     = [0,1,2,3]\n",
    "excluded_jae_idx = [] \n",
    "elusive_idx    = []\n",
    "excluded_data  = []\n",
    "excluded_jae_data = []\n",
    "elusive_data   = []\n",
    "\n",
    "for idx in excluded_idx:\n",
    "    excluded_data.append(file_to_plot[idx])\n",
    "# for idx in excluded_jae_idx:\n",
    "#     excluded_jae_data.append(file_to_plot[idx])\n",
    "# for idx in elusive_idx:\n",
    "#     elusive_data.append(apo_b3_hsa[idx])\n",
    "\n",
    "ax1.scatter(-np.array(excluded_data).T[16], np.array(excluded_data).T[12], color='blue', label='Excluded sites (L)', s=10, linewidths=0.5, alpha=0.5)\n",
    "# ax1.scatter(-np.array(excluded_jae_data).T[16], np.array(excluded_jae_data).T[12], color='red', label='Excluded sites (P)', s=10, linewidths=0.1, alpha=0.5)\n",
    "# ax1.scatter(-np.array(elusive_data).T[16], np.array(elusive_data).T[12], color='magenta', label='Nonexcluded sites', s=10, linewidths=0.1, alpha=0.5)\n",
    "ax1.plot(np.linspace(3,7,num=101), -9.53*np.ones(101),color='green', linestyle='--')\n",
    "ax1.legend(loc=3, ncol=1, scatterpoints=1, frameon=False, handlelength = 1, prop=fontP)\n",
    "\n",
    "ax2 = plt.subplot2grid((2,3),(0,0))\n",
    "ax2.set_ylim(0,8)\n",
    "ax2.set_yticks((0,2,4,6,8))\n",
    "ax2.set_xlabel(r\"Type\", fontweight=\"normal\")\n",
    "ax2.set_ylabel(r\"Number of sites\", fontweight=\"normal\")\n",
    "\n",
    "labels = ['En.F', 'En.U', 'Fr.F', 'Fr.U']\n",
    "excluded_L  = np.array([0, 4, 0, 0])\n",
    "# excluded_P  = np.array([0, 0, 0, 0])\n",
    "# nonexcluded = np.array([0, 0, 0, 0])\n",
    "width = 0.35       # the width of the bars: can also be len(x) sequence\n",
    "\n",
    "ax2.bar(labels, excluded_L,  width, label='Excluded sites (L)', color='blue')\n",
    "# ax2.bar(labels, excluded_P,  width, bottom=excluded_L, label='Excluded sites (P)', color='red')\n",
    "# ax2.bar(labels, nonexcluded, width, bottom=excluded_L, label='Nonexcluded sites', color='magenta')\n",
    "\n",
    "ax2.legend(loc=1, ncol=1, frameon=False, handlelength = 1, prop=fontP)\n",
    "\n",
    "plt.tight_layout()\n",
    "plt.savefig('Figure_Water_exluded_holo.png', figsize=(10,10), dpi=1000, bbox_inches='tight')"
   ]
  },
  {
   "cell_type": "code",
   "execution_count": 20,
   "metadata": {},
   "outputs": [
    {
     "name": "stdout",
     "output_type": "stream",
     "text": [
      "-7.727895999999998 -17.413406000000002\n"
     ]
    }
   ],
   "source": [
    "# Enthalpy changes \n",
    "excluded_idx   = np.arange(4)\n",
    "bulk_energy    = -9.53\n",
    "\n",
    "dE, dS = 0, 0\n",
    "for idx in excluded_idx:\n",
    "    dE += bulk_energy - file_to_plot.T[12][idx] \n",
    "    dS += file_to_plot.T[16][idx]\n",
    "print(dE, dS)"
   ]
  }
 ],
 "metadata": {
  "kernelspec": {
   "display_name": "Python 3",
   "language": "python",
   "name": "python3"
  },
  "language_info": {
   "codemirror_mode": {
    "name": "ipython",
    "version": 3
   },
   "file_extension": ".py",
   "mimetype": "text/x-python",
   "name": "python",
   "nbconvert_exporter": "python",
   "pygments_lexer": "ipython3",
   "version": "3.8.5"
  }
 },
 "nbformat": 4,
 "nbformat_minor": 4
}
