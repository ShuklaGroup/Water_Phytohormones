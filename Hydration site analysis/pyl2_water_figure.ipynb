{
 "cells": [
  {
   "cell_type": "code",
   "execution_count": 1,
   "metadata": {},
   "outputs": [],
   "source": [
    "import numpy as np\n",
    "import matplotlib.pyplot as plt\n",
    "import math\n",
    "from matplotlib import rc\n",
    "rc('font',**{'family':'sans-serif','sans-serif':['Helvetica'], 'size': '12', 'weight':'bold'})\n",
    "params = {'mathtext.default': 'regular' }\n",
    "plt.rcParams.update(params)\n",
    "plt.rcParams['text.usetex'] = False\n",
    "\n",
    "from matplotlib.font_manager import FontProperties\n",
    "fontP = FontProperties()\n",
    "fontP.set_size('6')\n",
    "%matplotlib inline"
   ]
  },
  {
   "cell_type": "markdown",
   "metadata": {},
   "source": [
    "# Hydration site analysis - without restraints"
   ]
  },
  {
   "cell_type": "code",
   "execution_count": 28,
   "metadata": {},
   "outputs": [],
   "source": [
    "apo_b1_hsa = np.loadtxt(\"/Users/chuankai/0-Research/4-Plant-Hormones/3-ABA/pyl2_water/analysis_no_restraints/pyl2_inactive/1-block1/\\\n",
    "run_hsa/SSTMap_HSA/pyl2_inactive_hsa_summary.txt\", skiprows=1, usecols=list(range(0,27)))\n",
    "\n",
    "apo_b2_hsa = np.loadtxt(\"/Users/chuankai/0-Research/4-Plant-Hormones/3-ABA/pyl2_water/analysis_no_restraints/pyl2_inactive/2-block2/\\\n",
    "run_hsa/SSTMap_HSA/pyl2_inactive_hsa_summary.txt\", skiprows=1, usecols=list(range(0,27)))\n",
    "\n",
    "apo_b3_hsa = np.loadtxt(\"/Users/chuankai/0-Research/4-Plant-Hormones/3-ABA/pyl2_water/analysis_no_restraints/pyl2_inactive/3-whole/\\\n",
    "run_hsa/SSTMap_HSA/pyl2_inactive_hsa_summary.txt\", skiprows=1, usecols=list(range(0,27)))\n",
    "\n",
    "holo_b1_hsa = np.loadtxt(\"/Users/chuankai/0-Research/4-Plant-Hormones/3-ABA/pyl2_water/analysis_no_restraints/pyl2_active/1-block1/\\\n",
    "run_hsa/SSTMap_HSA/pyl2_active_hsa_summary.txt\",   skiprows=1, usecols=list(range(0,27)))\n",
    "\n",
    "holo_b1_hsa_new = np.zeros((11,27))\n",
    "holo_b1_hsa_new[0:9, :] = holo_b1_hsa[0:9,:]\n",
    "holo_b1_hsa_new[9]      = np.mean(holo_b1_hsa[9:11,:], axis=0)\n",
    "holo_b1_hsa_new[-1]     = holo_b1_hsa[-1]\n",
    "holo_b1_hsa = holo_b1_hsa_new\n",
    "\n",
    "holo_b2_hsa = np.loadtxt(\"/Users/chuankai/0-Research/4-Plant-Hormones/3-ABA/pyl2_water/analysis_no_restraints/pyl2_active/2-block2/\\\n",
    "run_hsa/SSTMap_HSA/pyl2_active_hsa_summary.txt\",   skiprows=1, usecols=list(range(0,27)))\n",
    "\n",
    "holo_b3_hsa = np.loadtxt(\"/Users/chuankai/0-Research/4-Plant-Hormones/3-ABA/pyl2_water/analysis_no_restraints/pyl2_active/3-whole/\\\n",
    "run_hsa/SSTMap_HSA/pyl2_active_hsa_summary.txt\",   skiprows=1, usecols=list(range(0,27)))\n",
    "\n",
    "holo_b3_hsa_new = np.zeros((12,27))\n",
    "holo_b3_hsa_new[0:9, :] = holo_b3_hsa[0:9,:]\n",
    "holo_b3_hsa_new[9]      = np.mean(holo_b3_hsa[9:11,:], axis=0)\n",
    "holo_b3_hsa_new[10:, :]     = holo_b3_hsa[10:, :]\n",
    "holo_b3_hsa = holo_b3_hsa_new"
   ]
  },
  {
   "cell_type": "code",
   "execution_count": 7,
   "metadata": {},
   "outputs": [],
   "source": [
    "holo_b3_hsa = np.loadtxt(\"/Users/chuankai/0-Research/4-Plant-Hormones/3-ABA/pyl2_water/analysis_no_restraints/pyl2_active/3-whole/\\\n",
    "run_hsa/SSTMap_HSA/pyl2_active_hsa_summary.txt\",   skiprows=1, usecols=list(range(0,27)))"
   ]
  },
  {
   "cell_type": "code",
   "execution_count": 3,
   "metadata": {},
   "outputs": [
    {
     "data": {
      "image/png": "[encoded data removed]",
      "text/plain": [
       "<Figure size 432x288 with 3 Axes>"
      ]
     },
     "metadata": {
      "needs_background": "light"
     },
     "output_type": "display_data"
    }
   ],
   "source": [
    "ax0 = plt.subplot2grid((2,3),(0,0))\n",
    "ax0.scatter(-apo_b3_hsa.T[16], apo_b3_hsa.T[12], color='blue', s=10, linewidths=0.5, alpha=0.5)\n",
    "ax0.plot(np.linspace(3,7,num=101), -9.53*np.ones(101),color='red', linestyle='--')\n",
    "ax0.set_xlim(3,7)\n",
    "ax0.set_ylim(-16,-8)\n",
    "ax0.set_xticks((3,4,5,6,7))\n",
    "ax0.set_yticks((-16,-14,-12,-10,-8))\n",
    "ax0.set_xlabel(r'-TS (kcal/mol)', fontweight=\"bold\")\n",
    "ax0.set_ylabel(r\"E (kcal/mol)\",   fontweight=\"bold\")\n",
    "ax1 = plt.subplot2grid((2,3),(0,1))\n",
    "ax1.scatter(-holo_b3_hsa.T[16], holo_b3_hsa.T[12], color='blue', s=10, linewidths=0.5, alpha=0.5)\n",
    "ax1.plot(np.linspace(3,7,num=101), -9.53*np.ones(101),color='red', linestyle='--')\n",
    "ax1.set_xlim(3,7)\n",
    "ax1.set_ylim(-16,-8)\n",
    "ax1.set_xticks((3,4,5,6,7))\n",
    "ax1.set_yticks((-16,-14,-12,-10,-8))\n",
    "ax1.set_xlabel(r'-TS (kcal/mol)', fontweight=\"bold\")\n",
    "ax1.set_ylabel(r\"E (kcal/mol)\",   fontweight=\"bold\")\n",
    "ax2 = plt.subplot2grid((2,3),(0,2))\n",
    "ax2.set_xlim(3,7)\n",
    "ax2.set_ylim(-16,-8)\n",
    "ax2.set_xticks((3,4,5,6,7))\n",
    "ax2.set_yticks((-16,-14,-12,-10,-8))\n",
    "ax2.set_xlabel(r'-TS (kcal/mol)', fontweight=\"bold\")\n",
    "ax2.set_ylabel(r\"E (kcal/mol)\",   fontweight=\"bold\")\n",
    "\n",
    "excluded_aba_idx   = [13,14,15,18,19,20,21,24,25]\n",
    "excluded_loop_idx  = [16,22,26,27,28]\n",
    "conserved_idx  = [0,1,2,3,4,5,6,10,11]\n",
    "elusive_idx    = [7,8,9,12,17,23]\n",
    "excluded_aba_data  = []\n",
    "excluded_loop_data = []\n",
    "conserved_data     = []\n",
    "elusive_data       = []\n",
    "\n",
    "for idx in excluded_aba_idx:\n",
    "    excluded_aba_data.append(apo_b3_hsa[idx])\n",
    "for idx in excluded_loop_idx:\n",
    "    excluded_loop_data.append(apo_b3_hsa[idx])\n",
    "for idx in conserved_idx:\n",
    "    conserved_data.append(apo_b3_hsa[idx])\n",
    "for idx in elusive_idx:\n",
    "    elusive_data.append(apo_b3_hsa[idx])\n",
    "\n",
    "ax2.scatter(-np.array(conserved_data).T[16], np.array(conserved_data).T[12], color='magenta', label='Conserved sites', s=10, linewidths=0.5, alpha=0.5)\n",
    "ax2.scatter(-np.array(excluded_aba_data).T[16],  np.array(excluded_aba_data).T[12], color='blue', label='Excluded by ABA', s=10, linewidths=0.5, alpha=0.5)\n",
    "ax2.scatter(-np.array(excluded_loop_data).T[16],  np.array(excluded_loop_data).T[12], color='yellow', label='Excluded by loops', s=10, linewidths=0.5, alpha=0.5)\n",
    "ax2.scatter(-np.array(elusive_data).T[16], np.array(elusive_data).T[12], color='orange', label='Other sites', s=10, linewidths=0.1, alpha=0.5)\n",
    "ax2.plot(np.linspace(3,7,num=101), -9.53*np.ones(101),color='red', linestyle='--')\n",
    "ax2.legend(loc=3, ncol=1, scatterpoints=1, frameon=False, handlelength = 1, prop=fontP)\n",
    "plt.tight_layout()\n",
    "plt.savefig('/Users/chuankai/0-Research/4-Plant-Hormones/3-ABA/pyl2_water/visualizations/pdbs_no_rsts/images/\\\n",
    "Figure_Water.png', figsize=(10,10), dpi=1000, bbox_inches='tight')"
   ]
  },
  {
   "cell_type": "code",
   "execution_count": 4,
   "metadata": {},
   "outputs": [
    {
     "name": "stdout",
     "output_type": "stream",
     "text": [
      "0 Fr.F\n",
      "1 Fr.F\n",
      "2 En.U\n",
      "3 Fr.F\n",
      "4 Fr.F\n",
      "5 Fr.F\n",
      "6 Fr.F\n",
      "7 En.F\n",
      "8 En.U\n",
      "9 Fr.F\n",
      "10 Fr.F\n",
      "11 En.U\n",
      "12 En.U\n",
      "13 En.U\n",
      "14 En.F\n",
      "15 En.U\n",
      "16 En.U\n",
      "17 Fr.U\n",
      "18 En.F\n",
      "19 En.F\n",
      "20 En.U\n",
      "21 Fr.F\n",
      "22 En.F\n",
      "23 En.U\n",
      "24 En.F\n",
      "25 En.U\n",
      "26 En.U\n",
      "27 En.F\n",
      "28 En.F\n",
      "29 En.U\n"
     ]
    },
    {
     "data": {
      "image/png": "[encoded data removed]",
      "text/plain": [
       "<Figure size 432x288 with 3 Axes>"
      ]
     },
     "metadata": {
      "needs_background": "light"
     },
     "output_type": "display_data"
    }
   ],
   "source": [
    "ax0 = plt.subplot2grid((2,3),(0,0))\n",
    "ax0.plot(np.linspace(3,7,num=101), -9.53*np.ones(101),color='green', linestyle=':',dashes=[4, 2])\n",
    "\n",
    "en_data = []\n",
    "fr_data = []\n",
    "for i in range(len(apo_b3_hsa)):\n",
    "    if apo_b3_hsa[i][12] < -9.53:\n",
    "        en_data.append(apo_b3_hsa[i])\n",
    "    if apo_b3_hsa[i][12] > -9.53:\n",
    "        fr_data.append(apo_b3_hsa[i])\n",
    "en_data = np.array(en_data)        \n",
    "fr_data = np.array(fr_data)\n",
    "\n",
    "ax0.scatter(-en_data.T[16], en_data.T[12], color='magenta', s=10, linewidths=0.5, alpha=0.5,  label='Favorable')\n",
    "ax0.scatter(-fr_data.T[16], fr_data.T[12], color='blue', s=10, linewidths=0.5, alpha=0.5, label='Unfavorable')\n",
    "\n",
    "#ax0.scatter(-apo_b3_hsa.T[16], apo_b3_hsa.T[12], color='blue', s=10, linewidths=0.5, alpha=0.5)\n",
    "ax0.set_xlim(3,7)\n",
    "ax0.set_ylim(-14,-8)\n",
    "ax0.set_xticks((3,4,5,6,7))\n",
    "ax0.set_yticks((-14,-13,-12,-11,-10,-9,-8))\n",
    "ax0.set_xlabel(r'-TS$^{e}$ (kcal/mol)', fontweight=\"bold\")\n",
    "ax0.set_ylabel(r\"E$_{tot}$ (kcal/mol)\",   fontweight=\"bold\")\n",
    "ax0.legend(loc=3, ncol=1, scatterpoints=1, frameon=False, handlelength = 1, prop=fontP)\n",
    "\n",
    "ax1 = plt.subplot2grid((2,3),(0,1))\n",
    "ax1.plot(np.linspace(-16,0,num=101), -1.36*np.ones(101),color='grey', linestyle=':',dashes=[4, 2])\n",
    "\n",
    "en_data = []\n",
    "fr_data = []\n",
    "for i in range(len(apo_b3_hsa)):\n",
    "    if apo_b3_hsa[i][13] < -1.36:\n",
    "        en_data.append(apo_b3_hsa[i])\n",
    "    if apo_b3_hsa[i][13] > -1.36:\n",
    "        fr_data.append(apo_b3_hsa[i])\n",
    "en_data = np.array(en_data)        \n",
    "fr_data = np.array(fr_data)\n",
    "\n",
    "ax1.scatter(en_data.T[6], en_data.T[13], color='magenta', s=10, linewidths=0.5, alpha=0.5,  label='Enhanced')\n",
    "ax1.scatter(fr_data.T[6], fr_data.T[13], color='blue', s=10, linewidths=0.5, alpha=0.5, label='Frustrated')\n",
    "#ax1.scatter(apo_b3_hsa.T[6], apo_b3_hsa.T[13], color='blue', s=10, linewidths=0.5, alpha=0.5)\n",
    "ax1.set_xlim(-16,0)\n",
    "ax1.set_ylim(-3,1)\n",
    "ax1.set_xticks((-16,-12,-8,-4,0))\n",
    "ax1.set_yticks((-3, -2,-1,0,1))\n",
    "ax1.set_xlabel(r'E$_{sw}$ (kcal/mol)', fontweight=\"bold\")\n",
    "ax1.set_ylabel(\"$\\mathregular{E^{nbr}_{ww}}$ (kcal/mol)\",   fontweight=\"bold\")\n",
    "ax1.legend(loc=3, ncol=1, scatterpoints=1, frameon=False, handlelength = 1, prop=fontP)\n",
    "\n",
    "ax2 = plt.subplot2grid((2,3),(0,2))\n",
    "ax2.plot(np.linspace(-16,-8,num=101), -1.36*np.ones(101), color='grey', linestyle=':',dashes=[4, 2])\n",
    "ax2.plot(-9.53*np.ones(101), np.linspace(-3,1,num=101), color='green', linestyle=':',dashes=[4, 2])\n",
    "\n",
    "enF_data = []\n",
    "enU_data = []\n",
    "frF_data = []\n",
    "frU_data = []\n",
    "for i in range(len(apo_b3_hsa)):\n",
    "    if apo_b3_hsa[i][12] < -9.53 and apo_b3_hsa[i][13] < -1.36:\n",
    "        print(i, 'En.F')\n",
    "        enF_data.append(apo_b3_hsa[i])\n",
    "    if apo_b3_hsa[i][12] > -9.53 and apo_b3_hsa[i][13] < -1.36:\n",
    "        print(i, 'En.U')\n",
    "        enU_data.append(apo_b3_hsa[i])\n",
    "    if apo_b3_hsa[i][12] < -9.53 and apo_b3_hsa[i][13] > -1.36:\n",
    "        print(i, 'Fr.F')\n",
    "        frF_data.append(apo_b3_hsa[i])\n",
    "    if apo_b3_hsa[i][12] > -9.53 and apo_b3_hsa[i][13] > -1.36:\n",
    "        print(i, 'Fr.U')\n",
    "        frU_data.append(apo_b3_hsa[i])\n",
    "enF_data = np.array(enF_data)        \n",
    "frF_data = np.array(frF_data)\n",
    "enU_data = np.array(enU_data)        \n",
    "frU_data = np.array(frU_data)\n",
    "\n",
    "ax2.scatter(enF_data.T[12], enF_data.T[13], color='magenta', s=10, linewidths=0.5, alpha=0.5,  label='En.F')\n",
    "ax2.scatter(frF_data.T[12], frF_data.T[13], color='blue', s=10, linewidths=0.5, alpha=0.5, label='Fr.F')\n",
    "ax2.scatter(enU_data.T[12], enU_data.T[13], color='yellow', s=10, linewidths=0.5, alpha=0.5, label='En.U')\n",
    "ax2.scatter(frU_data.T[12], frU_data.T[13], color='orange', s=10, linewidths=0.5, alpha=0.5, label='Fr.U')\n",
    "\n",
    "#ax2.scatter(apo_b3_hsa.T[12], apo_b3_hsa.T[13], color='blue', s=10, linewidths=0.5, alpha=0.5)\n",
    "ax2.set_xlim(-14,-8)\n",
    "ax2.set_ylim(-3,1)\n",
    "ax2.set_xticks((-14,-12,-10,-8))\n",
    "ax2.set_yticks((-3, -2,-1,0,1))\n",
    "ax2.set_xlabel(r'E$_{tot}$ (kcal/mol)', fontweight=\"bold\")\n",
    "ax2.set_ylabel(\"$\\mathregular{E^{nbr}_{ww}}$ (kcal/mol)\",   fontweight=\"bold\")\n",
    "ax2.legend(loc=3, ncol=1, scatterpoints=1, frameon=False, handlelength = 1, prop=fontP)\n",
    "\n",
    "plt.tight_layout()\n",
    "plt.savefig('/Users/chuankai/0-Research/4-Plant-Hormones/3-ABA/pyl2_water/visualizations/pdbs_no_rsts/images/\\\n",
    "Figure_Water_APO.png', figsize=(10,10), dpi=1000, bbox_inches='tight')"
   ]
  },
  {
   "cell_type": "code",
   "execution_count": 5,
   "metadata": {},
   "outputs": [
    {
     "data": {
      "image/png": "[encoded data removed]",
      "text/plain": [
       "<Figure size 432x288 with 2 Axes>"
      ]
     },
     "metadata": {
      "needs_background": "light"
     },
     "output_type": "display_data"
    }
   ],
   "source": [
    "ax1 = plt.subplot2grid((2,3),(0,1))\n",
    "ax1.set_xlim(3,7)\n",
    "ax1.set_ylim(-16,-6)\n",
    "ax1.set_xticks((3,4,5,6,7))\n",
    "ax1.set_yticks((-16,-14,-12,-10,-8,-6))\n",
    "ax1.set_xlabel(r'-TS$^{e}$ (kcal/mol)', fontweight=\"bold\")\n",
    "ax1.set_ylabel(r\"E$_{tot}$ (kcal/mol)\",   fontweight=\"bold\")\n",
    "\n",
    "excluded_idx   = [13,14,15,18,19,20,21,24,25]\n",
    "elusive_idx    = [0,1,2,3,4,5,6,7,8,9,10,11,12,16,17,22,23,26,27,28,29]\n",
    "excluded_data  = []\n",
    "elusive_data   = []\n",
    "\n",
    "for idx in excluded_idx:\n",
    "    excluded_data.append(apo_b3_hsa[idx])\n",
    "for idx in elusive_idx:\n",
    "    elusive_data.append(apo_b3_hsa[idx])\n",
    "\n",
    "ax1.scatter(-np.array(excluded_data).T[16], np.array(excluded_data).T[12], color='blue', label='Excluded sites (L)', s=10, linewidths=0.5, alpha=0.5)\n",
    "ax1.scatter(-np.array(elusive_data).T[16], np.array(elusive_data).T[12], color='magenta', label='Nonexcluded sites', s=10, linewidths=0.1, alpha=0.5)\n",
    "ax1.plot(np.linspace(3,7,num=101), -9.53*np.ones(101),color='green', linestyle='--')\n",
    "ax1.legend(loc=3, ncol=1, scatterpoints=1, frameon=False, handlelength = 1, prop=fontP)\n",
    "\n",
    "ax2 = plt.subplot2grid((2,3),(0,0))\n",
    "ax2.set_ylim(0,20)\n",
    "ax2.set_yticks((0,4,8,12,16,20))\n",
    "ax2.set_xlabel(r\"Type\", fontweight=\"bold\")\n",
    "ax2.set_ylabel(r\"Number of sites\", fontweight=\"bold\")\n",
    "\n",
    "labels = ['En.F', 'En.U', 'Fr.F', 'Fr.U']\n",
    "excluded_L  = np.array([4, 4, 1, 0])\n",
    "#excluded_P  = np.array([0, 0, 0, 0])\n",
    "nonexcluded = np.array([8, 12, 9, 1])\n",
    "width = 0.35       # the width of the bars: can also be len(x) sequence\n",
    "\n",
    "ax2.bar(labels, excluded_L,  width, label='Excluded sites (L)', color='blue')\n",
    "#ax2.bar(labels, excluded_P,  width, bottom=excluded_L, label='Excluded sites (P)', color='red')\n",
    "ax2.bar(labels, nonexcluded, width, bottom=excluded_L, label='Nonexcluded sites', color='magenta')\n",
    "\n",
    "ax2.legend(loc=1, ncol=1, frameon=False, handlelength = 1, prop=fontP)\n",
    "\n",
    "plt.tight_layout()\n",
    "plt.savefig('/Users/chuankai/0-Research/4-Plant-Hormones/Figure_Water_Excluded.png', \\\n",
    "            figsize=(10,10), dpi=1000, bbox_inches='tight')"
   ]
  },
  {
   "cell_type": "code",
   "execution_count": 6,
   "metadata": {},
   "outputs": [
    {
     "name": "stdout",
     "output_type": "stream",
     "text": [
      "0 Fr.F\n",
      "1 Fr.F\n",
      "2 En.U\n",
      "3 En.F\n",
      "4 En.F\n",
      "5 Fr.F\n",
      "6 Fr.F\n",
      "7 En.F\n",
      "8 Fr.F\n",
      "9 Fr.F\n",
      "10 En.U\n"
     ]
    },
    {
     "data": {
      "image/png": "[encoded data removed]",
      "text/plain": [
       "<Figure size 432x288 with 1 Axes>"
      ]
     },
     "metadata": {
      "needs_background": "light"
     },
     "output_type": "display_data"
    }
   ],
   "source": [
    "ax2 = plt.subplot2grid((2,3),(0,2))\n",
    "ax2.set_xlim(3,7)\n",
    "ax2.set_ylim(-16,-8)\n",
    "ax2.set_xticks((3,4,5,6,7))\n",
    "ax2.set_yticks((-16,-14,-12,-10,-8))\n",
    "ax2.set_xlabel(r'-TS$^{e}$ (kcal/mol)', fontweight=\"bold\")\n",
    "ax2.set_ylabel(r\"E$_{tot}$ (kcal/mol)\",   fontweight=\"bold\")\n",
    "\n",
    "excluded_aba_idx   = [13,14,15,18,19,20,21,24,25]\n",
    "excluded_loop_idx  = [16,22,26,27,28]\n",
    "conserved_idx  = [0,1,2,3,4,5,6,10,11,29]\n",
    "elusive_idx    = [7,8,9,12,17,23]\n",
    "excluded_aba_data  = []\n",
    "excluded_loop_data = []\n",
    "conserved_data     = []\n",
    "elusive_data       = []\n",
    "\n",
    "for idx in excluded_aba_idx:\n",
    "    excluded_aba_data.append(apo_b3_hsa[idx])\n",
    "for idx in excluded_loop_idx:\n",
    "    excluded_loop_data.append(apo_b3_hsa[idx])\n",
    "for idx in conserved_idx:\n",
    "    conserved_data.append(apo_b3_hsa[idx])\n",
    "for idx in elusive_idx:\n",
    "    elusive_data.append(apo_b3_hsa[idx])\n",
    "\n",
    "ax2.scatter(-np.array(conserved_data).T[16], np.array(conserved_data).T[12], color='magenta', label='Conserved sites', s=10, linewidths=0.5, alpha=0.5)\n",
    "ax2.scatter(-np.array(excluded_aba_data).T[16],  np.array(excluded_aba_data).T[12], color='blue', label='Excluded by ABA', s=10, linewidths=0.5, alpha=0.5)\n",
    "ax2.scatter(-np.array(excluded_loop_data).T[16],  np.array(excluded_loop_data).T[12], color='yellow', label='Excluded by loops', s=10, linewidths=0.5, alpha=0.5)\n",
    "ax2.scatter(-np.array(elusive_data).T[16], np.array(elusive_data).T[12], color='orange', label='Other sites', s=10, linewidths=0.1, alpha=0.5)\n",
    "ax2.plot(np.linspace(3,7,num=101), -9.53*np.ones(101),color='green', linestyle='--',dashes=[4, 2])\n",
    "ax2.legend(loc=3, ncol=1, scatterpoints=1, frameon=False, handlelength = 1, prop=fontP)\n",
    "plt.tight_layout()\n",
    "plt.savefig('/Users/chuankai/0-Research/4-Plant-Hormones/3-ABA/pyl2_water/visualizations/pdbs_no_rsts/images/\\\n",
    "Figure_Water_Excluded.png', figsize=(10,10), dpi=1000, bbox_inches='tight')\n",
    "\n",
    "enF_data = []\n",
    "enU_data = []\n",
    "frF_data = []\n",
    "frU_data = []\n",
    "for i in range(len(holo_b3_hsa)):\n",
    "    if holo_b3_hsa[i][12] < -9.53 and holo_b3_hsa[i][13] < -1.36:\n",
    "        print(i, 'En.F')\n",
    "        enF_data.append(holo_b3_hsa[i])\n",
    "    if holo_b3_hsa[i][12] > -9.53 and holo_b3_hsa[i][13] < -1.36:\n",
    "        print(i, 'En.U')\n",
    "        enU_data.append(holo_b3_hsa[i])\n",
    "    if holo_b3_hsa[i][12] < -9.53 and holo_b3_hsa[i][13] > -1.36:\n",
    "        print(i, 'Fr.F')\n",
    "        frF_data.append(holo_b3_hsa[i])\n",
    "    if holo_b3_hsa[i][12] > -9.53 and holo_b3_hsa[i][13] > -1.36:\n",
    "        print(i, 'Fr.U')\n",
    "        frU_data.append(holo_b3_hsa[i])\n",
    "enF_data = np.array(enF_data)        \n",
    "frF_data = np.array(frF_data)\n",
    "enU_data = np.array(enU_data)        \n",
    "frU_data = np.array(frU_data)"
   ]
  },
  {
   "cell_type": "code",
   "execution_count": 7,
   "metadata": {},
   "outputs": [
    {
     "data": {
      "image/png": "[encoded data removed]",
      "text/plain": [
       "<Figure size 432x288 with 2 Axes>"
      ]
     },
     "metadata": {
      "needs_background": "light"
     },
     "output_type": "display_data"
    }
   ],
   "source": [
    "ax0 = plt.subplot2grid((1,2),(0,0))\n",
    "ax0.scatter(apo_b3_hsa.T[6], apo_b3_hsa.T[9], color='blue', s=10, linewidths=0.5, alpha=0.5)\n",
    "ax0.set_xlabel(r'Esw (kcal/mol)', fontweight=\"bold\")\n",
    "ax0.set_ylabel(r\"Eww (kcal/mol)\",   fontweight=\"bold\")\n",
    "\n",
    "ax1 = plt.subplot2grid((1,2),(0,1))\n",
    "ax1.scatter(apo_b3_hsa.T[6], apo_b3_hsa.T[13], color='blue', s=10, linewidths=0.5, alpha=0.5)\n",
    "ax1.plot(np.linspace(-20,10,num=101), -1.36*np.ones(101),color='red', linestyle='--')\n",
    "ax1.set_xlim(-20,10)\n",
    "ax1.set_xlabel(r'Esw (kcal/mol)', fontweight=\"bold\")\n",
    "ax1.set_ylabel(r\"Eww_nbr (kcal/mol)\",   fontweight=\"bold\")\n",
    "\n",
    "plt.tight_layout()"
   ]
  },
  {
   "cell_type": "code",
   "execution_count": 8,
   "metadata": {},
   "outputs": [
    {
     "data": {
      "image/png": "[encoded data removed]",
      "text/plain": [
       "<Figure size 432x288 with 1 Axes>"
      ]
     },
     "metadata": {
      "needs_background": "light"
     },
     "output_type": "display_data"
    }
   ],
   "source": [
    "ax0 = plt.subplot2grid((1,2),(0,0))\n",
    "ax0.scatter(apo_b3_hsa.T[12], apo_b3_hsa.T[13], color='blue', s=10, linewidths=0.5, alpha=0.5)\n",
    "ax0.set_xlabel(r'E$_{tot}$ (kcal/mol)', fontweight=\"bold\")\n",
    "ax0.set_ylabel(r\"E$_{ww}$$^{nbr}$ (kcal/mol)\",   fontweight=\"bold\")\n",
    "ax0.set_xlim(-14,-8)\n",
    "ax0.set_ylim(-2.5,0.5)\n",
    "ax0.plot(np.linspace(-14,-8,num=101), -1.36*np.ones(101),color='red', linestyle='--')\n",
    "ax0.plot(-9.53*np.ones(101), np.linspace(-2.5,0.5,num=101), color='red', linestyle='--' )\n",
    "plt.tight_layout()"
   ]
  },
  {
   "cell_type": "code",
   "execution_count": 9,
   "metadata": {},
   "outputs": [
    {
     "data": {
      "image/png": "[encoded data removed]",
      "text/plain": [
       "<Figure size 432x288 with 2 Axes>"
      ]
     },
     "metadata": {
      "needs_background": "light"
     },
     "output_type": "display_data"
    }
   ],
   "source": [
    "ax0 = plt.subplot2grid((1,2),(0,0))\n",
    "ax0.scatter(holo_b3_hsa.T[6], holo_b3_hsa.T[9], color='blue', s=10, linewidths=0.5, alpha=0.5)\n",
    "ax0.set_xlabel(r'Esw (kcal/mol)', fontweight=\"bold\")\n",
    "ax0.set_ylabel(r\"Eww (kcal/mol)\",   fontweight=\"bold\")\n",
    "\n",
    "ax1 = plt.subplot2grid((1,2),(0,1))\n",
    "ax1.scatter(holo_b3_hsa.T[6], holo_b3_hsa.T[13], color='blue', s=10, linewidths=0.5, alpha=0.5)\n",
    "ax1.set_xlabel(r'Esw (kcal/mol)', fontweight=\"bold\")\n",
    "ax1.set_ylabel(r\"Eww_nbr (kcal/mol)\",   fontweight=\"bold\")\n",
    "plt.tight_layout()"
   ]
  },
  {
   "cell_type": "code",
   "execution_count": 10,
   "metadata": {},
   "outputs": [
    {
     "data": {
      "image/png": "[encoded data removed]",
      "text/plain": [
       "<Figure size 432x288 with 1 Axes>"
      ]
     },
     "metadata": {
      "needs_background": "light"
     },
     "output_type": "display_data"
    }
   ],
   "source": [
    "ax1 = plt.subplot2grid((1,2),(0,1))\n",
    "ax1.scatter(apo_b3_hsa.T[9], apo_b3_hsa.T[13], color='blue', s=10, linewidths=0.5, alpha=0.5)\n",
    "ax1.set_xlabel(r'Eww (kcal/mol)', fontweight=\"bold\")\n",
    "ax1.set_ylabel(r\"Eww_nbr (kcal/mol)\",   fontweight=\"bold\")\n",
    "plt.tight_layout()"
   ]
  },
  {
   "cell_type": "code",
   "execution_count": 11,
   "metadata": {},
   "outputs": [
    {
     "data": {
      "image/png": "[encoded data removed]",
      "text/plain": [
       "<Figure size 432x288 with 2 Axes>"
      ]
     },
     "metadata": {
      "needs_background": "light"
     },
     "output_type": "display_data"
    }
   ],
   "source": [
    "ax0 = plt.subplot2grid((2,2),(0,0))\n",
    "ax1 = plt.subplot2grid((2,2),(0,1))\n",
    "ax0.scatter(-apo_b1_hsa.T[16], apo_b1_hsa.T[12], color='magenta',  label='0-50,000 frames', s=10, linewidths=0.5, alpha=0.5)\n",
    "ax0.scatter(-apo_b2_hsa.T[16], apo_b2_hsa.T[12], color='orange', label='50,000-100,000 frames', s=10, linewidths=0.5, alpha=0.5)\n",
    "ax0.scatter(-apo_b3_hsa.T[16], apo_b3_hsa.T[12], color='blue',  label='0-100,000 frames', s=10, linewidths=0.5, alpha=0.5)\n",
    "ax0.set_xlim(2,7)\n",
    "ax0.set_ylim(-16,-8)\n",
    "ax0.set_xticks((2,3,4,5,6,7))\n",
    "ax0.set_yticks((-16,-14,-12,-10,-8))\n",
    "ax0.set_xlabel(r'-TS$^{e}$ (kcal/mol)', fontweight=\"bold\")\n",
    "ax0.set_ylabel(r\"E$_{tot}$ (kcal/mol)\",   fontweight=\"bold\")\n",
    "ax0.legend(loc=3, ncol=1, scatterpoints=1, frameon=False, handlelength = 1, prop=fontP)\n",
    "ax1.scatter(-holo_b1_hsa.T[16], holo_b1_hsa.T[12], color='magenta',  label='0-50,000 frames', s=10, linewidths=0.5, alpha=0.5)\n",
    "ax1.scatter(-holo_b2_hsa.T[16], holo_b2_hsa.T[12], color='blue', label='50,000-100,000 frames', s=10, linewidths=0.5, alpha=0.5)\n",
    "ax1.scatter(-holo_b3_hsa.T[16], holo_b3_hsa.T[12], color='orange', label='0-100,000 frames', s=10, linewidths=0.5, alpha=0.5)\n",
    "ax1.set_xlim(2,7)\n",
    "ax1.set_ylim(-16,-8)\n",
    "ax1.set_xticks((2,3,4,5,6,7))\n",
    "ax1.set_yticks((-16,-14,-12,-10,-8))\n",
    "ax1.set_xlabel(r'-TS$^{e}$ (kcal/mol)', fontweight=\"bold\")\n",
    "ax1.set_ylabel(r\"E$_{tot}$ (kcal/mol)\",   fontweight=\"bold\")\n",
    "ax1.legend(loc=3, ncol=1, scatterpoints=1, frameon=False, handlelength = 1, prop=fontP)\n",
    "plt.tight_layout()\n",
    "plt.savefig('/Users/chuankai/0-Research/4-Plant-Hormones/3-ABA/pyl2_water/visualizations/pdbs_no_rsts/images/\\\n",
    "Figure_Water_Convergence.png', figsize=(10,10), dpi=1000, bbox_inches='tight')"
   ]
  },
  {
   "cell_type": "code",
   "execution_count": 12,
   "metadata": {},
   "outputs": [
    {
     "data": {
      "image/png": "[encoded data removed]",
      "text/plain": [
       "<Figure size 432x288 with 2 Axes>"
      ]
     },
     "metadata": {
      "needs_background": "light"
     },
     "output_type": "display_data"
    }
   ],
   "source": [
    "ax0 = plt.subplot2grid((2,2),(0,0))\n",
    "ax0.set_xlim(3,7)\n",
    "ax0.set_ylim(-16,-8)\n",
    "ax0.set_xticks((3,4,5,6,7))\n",
    "ax0.set_yticks((-16,-14,-12,-10,-8))\n",
    "ax0.set_xlabel(r'-TS$^{e}$ (kcal/mol)', fontweight=\"bold\")\n",
    "ax0.set_ylabel(r\"E$_{tot}$ (kcal/mol)\",   fontweight=\"bold\")\n",
    "excluded_pyra_idx   = [5,7,12,13,19,20,21,25]\n",
    "remained_pyra_idx   = [0,1,2,3,4,6,8,9,10,11,14,15,16,17,18,22,23,24,26,27,28,29]\n",
    "excluded_pyra_data  = []\n",
    "remained_pyra_data  = []\n",
    "\n",
    "for idx in excluded_pyra_idx:\n",
    "    excluded_pyra_data.append(apo_b3_hsa[idx])\n",
    "for idx in remained_pyra_idx:\n",
    "    remained_pyra_data.append(apo_b3_hsa[idx])\n",
    "    \n",
    "ax0.scatter(-np.array(excluded_pyra_data).T[16], np.array(excluded_pyra_data).T[12], color='magenta', label='Excluded by pyrabactin', s=10, linewidths=0.5, alpha=0.5)\n",
    "ax0.scatter(-np.array(remained_pyra_data).T[16], np.array(remained_pyra_data).T[12], color='blue',    label='Other sites', s=10, linewidths=0.1, alpha=0.5)\n",
    "ax0.legend(loc=3, ncol=1, scatterpoints=1, frameon=False, handlelength = 1, prop=fontP)\n",
    "\n",
    "ax1 = plt.subplot2grid((2,2),(0,1))\n",
    "ax1.set_xlim(3,7)\n",
    "ax1.set_ylim(-16,-8)\n",
    "ax1.set_xticks((3,4,5,6,7))\n",
    "ax1.set_yticks((-16,-14,-12,-10,-8))\n",
    "ax1.set_xlabel(r'-TS$^{e}$ (kcal/mol)', fontweight=\"bold\")\n",
    "ax1.set_ylabel(r\"E$_{tot}$ (kcal/mol)\",   fontweight=\"bold\")\n",
    "ax0.plot(np.linspace(3,7,num=101), -9.53*np.ones(101),color='green', linestyle='--',dashes=[4, 2])\n",
    "ax1.plot(np.linspace(3,7,num=101), -9.53*np.ones(101),color='green', linestyle='--',dashes=[4, 2])\n",
    "excluded_pyra_idx   = [9,15,20,21,25]\n",
    "remained_pyra_idx   = [0,1,2,3,4,5,6,7,8,10,11,12,13,14,16,17,18,19,22,23,24,26,27,28,29]\n",
    "excluded_pyra_data  = []\n",
    "remained_pyra_data  = []\n",
    "\n",
    "for idx in excluded_pyra_idx:\n",
    "    excluded_pyra_data.append(apo_b3_hsa[idx])\n",
    "for idx in remained_pyra_idx:\n",
    "    remained_pyra_data.append(apo_b3_hsa[idx])\n",
    "    \n",
    "ax1.scatter(-np.array(excluded_pyra_data).T[16], np.array(excluded_pyra_data).T[12], color='magenta', label='Excluded by pyrabactin', s=10, linewidths=0.5, alpha=0.5)\n",
    "ax1.scatter(-np.array(remained_pyra_data).T[16], np.array(remained_pyra_data).T[12], color='blue',    label='Other sites', s=10, linewidths=0.1, alpha=0.5)\n",
    "ax1.legend(loc=3, ncol=1, scatterpoints=1, frameon=False, handlelength = 1, prop=fontP)\n",
    "plt.tight_layout()\n",
    "plt.savefig('/Users/chuankai/0-Research/4-Plant-Hormones/3-ABA/pyl2_water/visualizations/pdbs_no_rsts/images/\\\n",
    "Figure_Water_pyra.png', figsize=(10,10), dpi=1000, bbox_inches='tight')"
   ]
  },
  {
   "cell_type": "code",
   "execution_count": 16,
   "metadata": {},
   "outputs": [
    {
     "name": "stdout",
     "output_type": "stream",
     "text": [
      "-0.4147119999999962 -40.434400000000004\n"
     ]
    }
   ],
   "source": [
    "# Enthalpy changes \n",
    "excluded_idx   = [5,7,9,12,13,19,20,21,25]\n",
    "bulk_energy    = -9.53\n",
    "\n",
    "dE, dS = 0, 0\n",
    "for idx in excluded_idx:\n",
    "    dE += bulk_energy - apo_b3_hsa.T[12][idx] \n",
    "    dS += apo_b3_hsa.T[16][idx]\n",
    "print(dE, dS)"
   ]
  },
  {
   "cell_type": "code",
   "execution_count": 17,
   "metadata": {},
   "outputs": [
    {
     "name": "stdout",
     "output_type": "stream",
     "text": [
      "-1.0827359999999988 -21.3095\n"
     ]
    }
   ],
   "source": [
    "# Enthalpy changes \n",
    "excluded_idx   = [9,15,20,21,25]\n",
    "bulk_energy    = -9.53\n",
    "\n",
    "dE, dS = 0, 0\n",
    "for idx in excluded_idx:\n",
    "    dE += bulk_energy - apo_b3_hsa.T[12][idx] \n",
    "    dS += apo_b3_hsa.T[16][idx]\n",
    "print(dE, dS)"
   ]
  },
  {
   "cell_type": "markdown",
   "metadata": {},
   "source": [
    "# New figure: conserved sites enthalpy/entropy change"
   ]
  },
  {
   "cell_type": "code",
   "execution_count": 33,
   "metadata": {},
   "outputs": [
    {
     "name": "stdout",
     "output_type": "stream",
     "text": [
      "12\n",
      "0 -1.4803829999999998 -0.13064199999999992\n",
      "1 -1.8050519999999999 -0.4939039999999997\n",
      "2 0.36677300000000024 -1.3106150000000003\n",
      "3 -0.5452309999999994 -0.34923400000000004\n",
      "4 -0.5483919999999998 0.22543499999999916\n",
      "5 -1.5943050000000003 -0.6963889999999999\n",
      "6 -0.21100299999999983 0.8429690000000001\n",
      "10 -1.9031660000000006 -1.036206\n",
      "11 -2.7377210000000005 -1.2358539999999998\n",
      "29 0.9569070000000011 0.1368879999999999\n",
      "-9.501572999999999 -4.0475520000000005\n"
     ]
    },
    {
     "data": {
      "image/png": "[encoded data removed]",
      "text/plain": [
       "<Figure size 432x288 with 1 Axes>"
      ]
     },
     "metadata": {
      "needs_background": "light"
     },
     "output_type": "display_data"
    }
   ],
   "source": [
    "# Enthalpy changes \n",
    "conserved_idx   = [0,1,2,3,4,5,6,10,11,29]\n",
    "holo_idx        = [1,0,2,6,9,5,8,7,3,11]\n",
    "\n",
    "print(len(holo_b3_hsa.T[16]))\n",
    "\n",
    "dE, dS = 0, 0\n",
    "ddEs = []\n",
    "ddSs = []\n",
    "for i, idx in enumerate(conserved_idx):\n",
    "    ddE = holo_b3_hsa.T[12][holo_idx[i]] - apo_b3_hsa.T[12][idx] \n",
    "    ddS = holo_b3_hsa.T[16][holo_idx[i]] - apo_b3_hsa.T[16][idx]\n",
    "    dE += ddE\n",
    "    dS += ddS\n",
    "    ddEs.append(ddE)\n",
    "    ddSs.append(ddS)\n",
    "    print(idx, ddE, ddS)\n",
    "print(dE, dS)\n",
    "\n",
    "ax1 = plt.subplot2grid((2,2),(0,0))\n",
    "ax1.set_ylim(-3,2)\n",
    "ax1.set_yticks((-3,-2,-1,0,1,2))\n",
    "\n",
    "width  = 0.3\n",
    "index  = np.arange(10)\n",
    "\n",
    "ax1.bar(np.array(index) + 0.85, ddEs,  width, label=r'$\\Delta$H', color='blue')\n",
    "ax1.bar(np.array(index) + 1.15, ddSs,  width, label=r'$\\Delta$(-TS)', color='magenta')\n",
    "ax1.set_xlabel(r\"Hydration sites\", fontweight=\"bold\")\n",
    "ax1.set_xticks(np.array(index)+1)\n",
    "ax1.set_xticklabels((str(r) for r in conserved_idx))\n",
    "ax1.set_ylabel(r\"kcal/mol\", fontweight=\"bold\")\n",
    "ax1.legend(loc=1, ncol=2, frameon=False, handlelength = 1, prop=fontP)\n",
    "\n",
    "plt.tight_layout()\n",
    "plt.savefig('/Users/chuankai/0-Research/4-Plant-Hormones/3-ABA/pyl2_water/\\\n",
    "Figure_Water_HOLO_DIFF.png', figsize=(10,10), dpi=1000, bbox_inches='tight')"
   ]
  },
  {
   "cell_type": "code",
   "execution_count": 4,
   "metadata": {},
   "outputs": [
    {
     "data": {
      "text/plain": [
       "[0, 1, 2, 3, 4, 6, 8, 10, 11, 14, 15, 16, 17, 18, 22, 23, 24, 26, 27, 28, 29]"
      ]
     },
     "execution_count": 4,
     "metadata": {},
     "output_type": "execute_result"
    }
   ],
   "source": [
    "list(set(range(30)) - set([5,7,9,12,13,19,20,21,25]))"
   ]
  },
  {
   "cell_type": "code",
   "execution_count": 22,
   "metadata": {},
   "outputs": [
    {
     "data": {
      "text/plain": [
       "11.207504"
      ]
     },
     "execution_count": 22,
     "metadata": {},
     "output_type": "execute_result"
    }
   ],
   "source": [
    "holo_b3_hsa.T[12][10] - apo_b3_hsa.T[12][4] "
   ]
  },
  {
   "cell_type": "code",
   "execution_count": 24,
   "metadata": {},
   "outputs": [
    {
     "data": {
      "text/plain": [
       "5.717395"
      ]
     },
     "execution_count": 24,
     "metadata": {},
     "output_type": "execute_result"
    }
   ],
   "source": [
    "holo_b3_hsa.T[16][10] - apo_b3_hsa.T[16][4]"
   ]
  },
  {
   "cell_type": "code",
   "execution_count": 25,
   "metadata": {},
   "outputs": [
    {
     "data": {
      "text/plain": [
       "0.0"
      ]
     },
     "execution_count": 25,
     "metadata": {},
     "output_type": "execute_result"
    }
   ],
   "source": [
    "holo_b3_hsa.T[12][10]"
   ]
  },
  {
   "cell_type": "code",
   "execution_count": 26,
   "metadata": {},
   "outputs": [
    {
     "data": {
      "text/plain": [
       "0.0"
      ]
     },
     "execution_count": 26,
     "metadata": {},
     "output_type": "execute_result"
    }
   ],
   "source": [
    "holo_b3_hsa.T[16][10]"
   ]
  },
  {
   "cell_type": "code",
   "execution_count": 29,
   "metadata": {},
   "outputs": [
    {
     "data": {
      "text/plain": [
       "array([[ 0.0000000e+00,  3.8130000e+01,  2.9810000e+01,  3.7970000e+01,\n",
       "         9.9698000e+04,  1.0000000e+00, -1.5332267e+01,  2.5083610e+00,\n",
       "        -1.7840628e+01,  1.4798320e+00, -1.9949600e-01,  1.6793280e+00,\n",
       "        -1.3852435e+01,  1.3511540e+00, -4.0188180e+00, -2.6738540e+00,\n",
       "        -6.6926720e+00,  4.4389100e-01,  1.8797000e-02,  2.9012720e+00,\n",
       "         2.9200690e+00,  1.6966000e-02,            nan,  1.8486000e-02,\n",
       "         3.1100000e-04,  1.8985340e+00,  1.0027380e+00],\n",
       "       [ 1.0000000e+00,  3.6730000e+01,  3.2610000e+01,  3.6100000e+01,\n",
       "         9.8263000e+04,  9.8000000e-01, -1.6772654e+01,  1.0662150e+00,\n",
       "        -1.7838868e+01,  2.6349730e+00,  8.2262000e-02,  2.5527100e+00,\n",
       "        -1.4137681e+01,  5.0043800e-01, -3.8370670e+00, -2.5390140e+00,\n",
       "        -6.3760820e+00,  1.1055130e+00,  5.2414400e-01,  1.9721460e+00,\n",
       "         2.4962910e+00,  4.0874600e-01,            nan,  5.2035900e-01,\n",
       "         3.7860000e-03,  9.8075600e-01,  9.9139000e-01],\n",
       "       [ 2.0000000e+00,  4.1990000e+01,  2.3150000e+01,  2.7350000e+01,\n",
       "         9.7558000e+04,  9.8000000e-01, -7.5821020e+00,  3.9232300e-01,\n",
       "        -7.9744250e+00, -1.2058470e+00,  4.5151000e-02, -1.2509980e+00,\n",
       "        -8.7879490e+00, -1.9864260e+00, -3.9082730e+00, -2.1311560e+00,\n",
       "        -6.0394290e+00,  3.3324800e-01,  3.0520300e-01,  1.5988950e+00,\n",
       "         1.9040980e+00,  3.0443400e-01,            nan,  5.5147000e-02,\n",
       "         2.5005600e-01,  9.4798000e-01,  6.5091500e-01],\n",
       "       [ 3.0000000e+00,  3.5600000e+01,  2.9970000e+01,  3.1500000e+01,\n",
       "         9.4799000e+04,  9.5000000e-01, -9.7849890e+00, -5.0900700e-01,\n",
       "        -9.2759820e+00, -1.9700430e+00,  4.7431500e-01, -2.4443580e+00,\n",
       "        -1.1755032e+01, -2.0049130e+00, -3.7835750e+00, -2.0319870e+00,\n",
       "        -5.8155630e+00,  1.2868280e+00,  1.0404010e+00,  6.5380400e-01,\n",
       "         1.6942060e+00,  8.1739800e-01,            nan,  9.0687700e-01,\n",
       "         1.3352500e-01,  6.5380400e-01,  0.0000000e+00],\n",
       "       [ 4.0000000e+00,  3.4620000e+01,  3.2100000e+01,  2.9770000e+01,\n",
       "         9.3054000e+04,  9.3000000e-01, -9.2593200e+00, -3.0407600e-01,\n",
       "        -8.9552440e+00, -1.2873170e+00,  3.6784600e-01, -1.6551620e+00,\n",
       "        -1.0546637e+01, -1.8729580e+00, -4.0307650e+00, -2.5987540e+00,\n",
       "        -6.6295190e+00,  1.2205820e+00,  9.6056100e-01,  1.8206100e+00,\n",
       "         2.7811700e+00,  8.4306500e-01,            nan,  8.8870000e-03,\n",
       "         9.5167300e-01,  8.8072500e-01,  9.3988400e-01],\n",
       "       [ 5.0000000e+00,  3.4800000e+01,  2.6340000e+01,  3.2670000e+01,\n",
       "         8.8012000e+04,  8.8000000e-01, -1.0826317e+01,  9.7246600e-01,\n",
       "        -1.1798782e+01, -1.0459710e+00,  3.9301600e-01, -1.4389860e+00,\n",
       "        -1.1872287e+01, -4.5387200e-01, -3.7876190e+00, -2.1005860e+00,\n",
       "        -5.8882050e+00,  1.3379430e+00,  6.2942600e-01,  9.9293300e-01,\n",
       "         1.6223580e+00,  4.7635400e-01,            nan,  5.7909100e-01,\n",
       "         5.0334000e-02,  1.0910000e-03,  9.9184200e-01],\n",
       "       [ 6.0000000e+00,  3.2970000e+01,  2.7360000e+01,  3.4680000e+01,\n",
       "         8.7525000e+04,  8.8000000e-01, -1.3277702e+01,  4.7348600e-01,\n",
       "        -1.3751188e+01,  1.1566680e+00,  3.0783200e-01,  8.4883600e-01,\n",
       "        -1.2121034e+01, -2.3340600e-01, -3.8080720e+00, -2.2082890e+00,\n",
       "        -6.0163610e+00,  1.0652390e+00,  5.9429900e-01,  2.0435990e+00,\n",
       "         2.6378980e+00,  5.5411200e-01,            nan,  3.3590000e-02,\n",
       "         5.6070800e-01,  9.1696100e-01,  1.1266380e+00],\n",
       "       [ 7.0000000e+00,  3.2330000e+01,  2.9440000e+01,  3.8460000e+01,\n",
       "         7.4024000e+04,  7.4000000e-01, -8.2448110e+00, -1.8978700e-01,\n",
       "        -8.0550240e+00, -3.6444770e+00,  1.1157710e+00, -4.7602490e+00,\n",
       "        -1.1889289e+01, -1.6136120e+00, -3.8593700e+00, -2.2778660e+00,\n",
       "        -6.1372360e+00,  1.9544610e+00,  1.6659460e+00,  1.4029230e+00,\n",
       "         3.0688700e+00,  8.5235300e-01,            nan,  6.0800000e-04,\n",
       "         1.6653380e+00,  1.3739190e+00,  2.9004000e-02],\n",
       "       [ 8.0000000e+00,  3.4920000e+01,  3.3140000e+01,  3.8490000e+01,\n",
       "         6.7153000e+04,  6.7000000e-01, -1.3622449e+01,  6.1561800e-01,\n",
       "        -1.4238066e+01,  1.1509500e-01,  7.6061600e-01, -6.4552100e-01,\n",
       "        -1.3507354e+01, -4.1149200e-01, -3.5749390e+00, -2.0690350e+00,\n",
       "        -5.6439740e+00,  1.8741230e+00,  1.5419560e+00,  1.9800160e+00,\n",
       "         3.5219720e+00,  8.2826700e-01,            nan,  7.8833400e-01,\n",
       "         7.5362200e-01,  9.7236200e-01,  1.0076540e+00],\n",
       "       [ 9.5000000e+00,  3.4525000e+01,  3.0890000e+01,  3.9170000e+01,\n",
       "         5.2777000e+04,  5.2500000e-01, -9.9287565e+00, -5.7392050e-01,\n",
       "        -9.3548365e+00, -1.8271395e+00,  1.3859130e+00, -3.2130525e+00,\n",
       "        -1.1755896e+01, -9.8039450e-01, -3.5297505e+00, -1.9622090e+00,\n",
       "        -5.4919600e+00,  2.9336285e+00,  2.2284640e+00,  9.7450150e-01,\n",
       "         3.2029650e+00,  7.7476350e-01,            nan,  8.5004250e-01,\n",
       "         1.3784215e+00,  5.8037250e-01,  3.9412900e-01],\n",
       "       [ 1.0000000e+01,  3.4760000e+01,  3.1000000e+01,  3.8770000e+01,\n",
       "         4.5477000e+04,  4.5000000e-01, -1.1348452e+01, -1.9657400e-01,\n",
       "        -1.1151878e+01, -8.9427900e-01,  1.1345950e+00, -2.0288740e+00,\n",
       "        -1.2242731e+01, -6.8403800e-01, -3.6515490e+00, -1.9165630e+00,\n",
       "        -5.5681120e+00,  2.9948770e+00,  1.9775930e+00,  1.3621390e+00,\n",
       "         3.3397320e+00,  6.8174000e-01,            nan,  7.5246800e-01,\n",
       "         1.2251250e+00,  7.9356600e-01,  5.6857300e-01],\n",
       "       [ 1.1000000e+01,  4.4500000e+01,  2.5020000e+01,  2.7240000e+01,\n",
       "         2.8525000e+04,  2.9000000e-01, -3.5904940e+00, -9.5157500e-01,\n",
       "        -2.6389190e+00, -4.7607000e+00,  1.1506530e+00, -5.9113530e+00,\n",
       "        -8.3511940e+00, -1.8533820e+00, -2.1775840e+00, -1.0998910e+00,\n",
       "        -3.2774760e+00,  2.2590360e+00,  1.9131990e+00,  2.8599500e-01,\n",
       "         2.1991940e+00,  8.5863200e-01,            nan,  9.8937800e-01,\n",
       "         9.2382100e-01,  2.8596000e-01,  3.5000000e-05]])"
      ]
     },
     "execution_count": 29,
     "metadata": {},
     "output_type": "execute_result"
    }
   ],
   "source": [
    "holo_b3_hsa"
   ]
  },
  {
   "cell_type": "code",
   "execution_count": null,
   "metadata": {},
   "outputs": [],
   "source": []
  }
 ],
 "metadata": {
  "kernelspec": {
   "display_name": "Python 3",
   "language": "python",
   "name": "python3"
  },
  "language_info": {
   "codemirror_mode": {
    "name": "ipython",
    "version": 3
   },
   "file_extension": ".py",
   "mimetype": "text/x-python",
   "name": "python",
   "nbconvert_exporter": "python",
   "pygments_lexer": "ipython3",
   "version": "3.7.3"
  }
 },
 "nbformat": 4,
 "nbformat_minor": 4
}
